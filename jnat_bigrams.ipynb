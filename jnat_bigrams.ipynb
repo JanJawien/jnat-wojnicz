{
 "cells": [
  {
   "cell_type": "code",
   "execution_count": 215,
   "metadata": {
    "collapsed": true
   },
   "outputs": [],
   "source": [
    "# imports\n",
    "from typing import List\n",
    "from datetime import datetime\n",
    "\n",
    "import cv2\n",
    "import os\n",
    "import re\n",
    "import requests\n",
    "import numpy as np\n",
    "import matplotlib.pyplot as plt\n",
    "import networkx as nx"
   ]
  },
  {
   "cell_type": "code",
   "execution_count": 216,
   "outputs": [],
   "source": [
    "# constants\n",
    "VALID_CHAR_REGEX = \"[A-Z0-9]\"\n",
    "VALID_CHAR_CZECH_REGEX = \"[a-zA-ZáčďéěíňóřšťúůýžÁČĎÉĚÍŇÓŘŠŤÚŮÝŽ]\" # czech lang\n",
    "VALID_CHAR_POLISH_REGEX = \"[a-zA-ZąćęłńóśżźĄĆĘŁŃÓŚŻŹ]\" # polish lang\n",
    "VALID_CHAR_GERMAN_REGEX = \"[a-zA-ZÄäÖöÜüẞß]\" # german lang\n",
    "VALID_CHAR_ENGLISH_REGEX = \"[a-zA-Z]\"\n",
    "INVALID_CHAR_REGEX = \"[.,()«»?!-—:;…]\"\n",
    "WOJNICZ_INPUT_FILE = \"inputs\\\\wojnicz.txt\"\n",
    "#REAL_INPUT_FILE = \"inputs\\\\dinosauri-clean.txt\"\n",
    "REAL_INPUT_FILE = \"inputs\\\\pan-tadeusz.txt\"\n",
    "DPI = 1\n",
    "FIGSIZE = (1200/DPI, 400/DPI)\n",
    "\n",
    "VALID_CHAR_PUNC_REGEX = \"[a-zA-Z0-9/=ąćęłńóśżźĄĆĘŁŃÓŚŻŹáčďéěíňóřšťúůýžÁČĎÉĚÍŇÓŘŠŤÚŮÝŽÄäÖöÜüẞß]\"\n",
    "PUNCT_REGEX = \"[=]\""
   ],
   "metadata": {
    "collapsed": false
   }
  },
  {
   "cell_type": "code",
   "execution_count": 217,
   "outputs": [],
   "source": [
    "# def function: save list of strings to file, separated by newlines\n",
    "def save_to_file(input: List[str], path: str):\n",
    "    file = open(path, \"w\")\n",
    "    for line in input[:-1]:\n",
    "        file.write(line + \"\\n\")\n",
    "    file.write(input[-1])\n",
    "    file.close()"
   ],
   "metadata": {
    "collapsed": false
   }
  },
  {
   "cell_type": "code",
   "execution_count": 218,
   "outputs": [],
   "source": [
    "def plot_occ(input):\n",
    "    # generate occurance count graph\n",
    "    plt.plot(range(200), list(input.values())[:200], 'o', color='#8888ff')\n",
    "    plt.xlabel(\"Bigram index\")\n",
    "    plt.ylabel(\"Number of bigrams appearing in the text\")\n",
    "    # save plot to file and show\n",
    "    #if filename == \"\":\n",
    "    #    filename = datetime.now().strftime(\"%Y%m%d-%H%M%S\")\n",
    "    #plt.savefig(\"outputs\\\\occurance_\" + filename + \".png\")\n",
    "    plt.show()"
   ],
   "metadata": {
    "collapsed": false
   }
  },
  {
   "cell_type": "code",
   "execution_count": 219,
   "outputs": [],
   "source": [
    "# open text prepared in connetwork file\n",
    "# https://www.ic.unicamp.br/~stolfi/voynich/mirror/reeds/docs/FSG.txt\n",
    "text = open(\"words_punc.txt\", 'r').read().split(\"\\n\")"
   ],
   "metadata": {
    "collapsed": false
   }
  },
  {
   "cell_type": "code",
   "execution_count": 220,
   "outputs": [
    {
     "data": {
      "text/plain": "[('FGAG2', 'GDAE'),\n ('GDAE', 'AR'),\n ('AR', 'GHAM'),\n ('GHAM', 'SOE'),\n ('SOE', 'SORG'),\n ('SORG', '0D0RC2'),\n ('0D0RC2', 'GDOR'),\n ('GDOR', 'SOE8G'),\n ('SOE8G', '2ORG'),\n ('2ORG', 'DZAR'),\n ('DZAR', 'ORG'),\n ('ORG', 'DAIR'),\n ('DAIR', 'THAM'),\n ('THAM', 'SOR'),\n ('SOR', 'AR'),\n ('AR', 'HZAR'),\n ('HZAR', 'HZAR'),\n ('HZAR', '8ALA'),\n ('8ALA', '2GAIIR'),\n ('2GAIIR', 'SCDG'),\n ('SCDG', 'OR'),\n ('OR', 'GDAM'),\n ('GDAM', 'SO8'),\n ('SO8', 'HZOARG'),\n ('HZOARG', 'HZC2'),\n ('HZC2', '8ARAM'),\n ('8ARAM', '2G'),\n ('2G', '0OM'),\n ('0OM', 'OHCCG'),\n ('OHCCG', 'OHCAR'),\n ('OHCAR', 'ROEOHG'),\n ('ROEOHG', 'HZAAR'),\n ('HZAAR', '8AM'),\n ('8AM', 'ODAM'),\n ('ODAM', 'OR'),\n ('OR', 'ODAL'),\n ('ODAL', '2AIRG'),\n ('2AIRG', 'TCAR'),\n ('TCAR', 'HZAM'),\n ('HZAM', 'PZAR'),\n ('PZAR', 'FZAM'),\n ('O8AR', 'SG'),\n ('SG', 'SOE'),\n ('SOE', 'PZOG'),\n ('PZOG', 'OG8AR'),\n ('OG8AR', 'S'),\n ('S', '2'),\n ('2', 'FZOAM'),\n ('FZOAM', 'SO8ARG'),\n ('SO8ARG', 'GSCG'),\n ('GSCG', 'SO8G'),\n ('SO8G', 'ODTO'),\n ('ODTO', 'G'),\n ('G', 'OHTOE'),\n ('OHTOE', 'TOHZG'),\n ('TOHZG', 'O2TG'),\n ('O2TG', '8AN'),\n ('8AN', 'TOR'),\n ('TOR', 'DO2'),\n ('DO2', '8AM'),\n ('8AM', 'SOR'),\n ('SOR', 'FZOE'),\n ('FZOE', 'SO8G'),\n ('8AN', '02'),\n ('02', 'HCO8G'),\n ('G8AN', 'PZC2AM'),\n ('PZC2AM', 'OE2'),\n ('OE2', 'PZCG'),\n ('PZCG', 'GHAN'),\n ('GHAN', 'SOSG'),\n ('SOSG', 'PZO8AEC2'),\n ('PZO8AEC2', 'ODSO'),\n ('ODSO', 'DSOG'),\n ('DSOG', 'OHAIRN'),\n ('OHAIRN', 'OHCOE'),\n ('OHCOE', 'ODAL'),\n ('ODAL', 'SO8AN'),\n ('SO8AN', '2DZCG'),\n ('2DZCG', '8AM'),\n ('8AM', 'SOG'),\n ('SOG', 'DZCG'),\n ('DZCG', 'DO8AM'),\n ('DO8AM', 'PZG'),\n ('PZG', 'PZ08AIIE2'),\n ('PZ08AIIE2', 'HZCG'),\n ('HZCG', 'SC'),\n ('SC', 'OE8AN'),\n ('OE8AN', '8'),\n ('8', '8AN'),\n ('8AN', 'OM'),\n ('OM', 'TOE'),\n ('TOE', 'O8AM'),\n ('O8AM', 'TO8AN'),\n ('TO8AN', 'T8G'),\n ('T8G', 'ODON'),\n ('ODON', '80R'),\n ('80R', 'HZG'),\n ('HZG', 'DO8'),\n ('DO8', '8AM'),\n ('8AM', 'SDZCG'),\n ('SDZCG', 'DZOR'),\n ('DZOR', 'TOR'),\n ('TOR', 'SCG'),\n ('SCG', 'DOE'),\n ('DOE', 'TOE'),\n ('TOE', 'TOE'),\n ('TOE', 'DOR'),\n ('DOR', 'TOE'),\n ('TOE', 'SO'),\n ('SO', 'TOE'),\n ('TOE', 'SO8AL'),\n ('SO8AL', 'DSG'),\n ('DSG', 'DTG'),\n ('DTG', '8OR'),\n ('8OR', 'TO8AM'),\n ('TO8AM', 'SO'),\n ('SO', 'DOCAK'),\n ('DOCAK', 'GTO'),\n ('GTO', 'HTCG'),\n ('HTCG', 'TCDAN'),\n ('TCDAN', 'SCO'),\n ('SCO', 'PSOE'),\n ('PSOE', '8G8G8'),\n ('8G8G8', 'HZG'),\n ('HZG', '8AIHZG'),\n ('8AIHZG', 'GHO'),\n ('GHO', 'SOE'),\n ('SOE', 'SC'),\n ('SC', 'DO8SCG'),\n ('DO8SCG', 'PZCAEG'),\n ('PZCAEG', '8ARAN'),\n ('8ARAN', '8AN'),\n ('8AN', 'DZG82'),\n ('DZG82', '8TAR'),\n ('8TAR', 'SHZAM'),\n ('SHZAM', 'ODAIIR'),\n ('ODAIIR', 'TCG'),\n ('TCG', '2TG'),\n ('2TG', 'PZHOE'),\n ('PZHOE', 'HZOE2'),\n ('HZOE2', '8AOCHA'),\n ('8AOCHA', 'SOD'),\n ('SOD', 'TOR'),\n ('TOR', 'TCG'),\n ('TCG', '8AN'),\n ('8AN', 'DZCG'),\n ('OHOE', '8AIM'),\n ('PZO', 'SAM'),\n ('SAM', 'SODTCCG'),\n ('SODTCCG', 'TOE'),\n ('TOE', 'HSO8CC2G'),\n ('HSO8CC2G', 'SCG'),\n ('SCG', 'PG8CCG'),\n ('PG8CCG', 'TG'),\n ('TG', 'RO8'),\n ('RO8', '00ON'),\n ('00ON', 'TOE'),\n ('TOE', '8AN'),\n ('8AN', 'HZAE'),\n ('HZAE', '8AR'),\n ('8AR', 'SCAR'),\n ('SCAR', 'DAM'),\n ('DAM', '8AR'),\n ('8AR', 'SCG'),\n ('SCG', 'HZCAR'),\n ('HZCAR', 'CTO00'),\n ('CTO00', 'DAM'),\n ('DAM', 'SOAM'),\n ('SOAM', 'ODOE'),\n ('ODOE', '8AM'),\n ('8AM', 'FAR'),\n ('FAR', 'HZOE'),\n ('HZOE', '8AM'),\n ('8AM', 'HZOE8AR'),\n ('HZOE8AR', 'GTCCG'),\n ('GTCCG', 'ODCCG'),\n ('ODCCG', 'ODG'),\n ('ODG', '8AM'),\n ('8AM', 'ODTCG'),\n ('ODTCG', 'DODAM'),\n ('DODAM', '0TOE'),\n ('0TOE', 'DA8TG'),\n ('DA8TG', '8AE'),\n ('8AE', '8TCO'),\n ('8TCO', 'SO8G'),\n ('SO8G', 'DOTCG'),\n ('DOTCG', 'HZG'),\n ('HZG', 'ODTCG'),\n ('ODTCG', 'DCCG'),\n ('DCCG', 'DCCG'),\n ('DCCG', '8AE'),\n ('8AE', 'THOR'),\n ('THOR', '0CO'),\n ('0CO', 'TOE'),\n ('TOE', 'TOD'),\n ('TOD', 'TOHG'),\n ('TOHG', 'TOHCG'),\n ('DTRG', 'TO8AM'),\n ('TO8AM', 'OE'),\n ('OE', 'OEHTCG'),\n ('OEHTCG', 'TAR'),\n ('TAR', 'FZAR'),\n ('FZAR', 'AK'),\n ('AK', 'GHCCG'),\n ('GHCCG', 'TAR'),\n ('TAR', 'OR'),\n ('OR', 'OTG'),\n ('OTG', '8TO'),\n ('8TO', 'EDO8G'),\n ('EDO8G', 'ODO8AR'),\n ('ODO8AR', 'TO8G'),\n ('TO8G', '8O'),\n ('8O', 'DZG'),\n ('DZG', 'DZO'),\n ('DZO', 'DZG'),\n ('DZG', 'SG'),\n ('SG', '8DSCCG'),\n ('8DSCCG', 'HZG'),\n ('HZG', 'DOHTO8G'),\n ('DOHTO8G', '8AE'),\n ('8AE', '8OE'),\n ('8OE', 'TODCO'),\n ('TODCO', '8AIR'),\n ('8AIR', '8AK'),\n ('8AK', '2OTCG'),\n ('2OTCG', 'TODO8G'),\n ('POHOG', 'SOE'),\n ('SOE', '8AIR'),\n ('8AIR', 'PZOAE'),\n ('PZOAE', '8AR'),\n ('8AR', 'TCG'),\n ('TCG', 'HO8G'),\n ('HO8G', 'OHOAM'),\n ('OHOAM', 'SOSG'),\n ('SOSG', 'TODG'),\n ('TODG', 'TOE'),\n ('TOE', 'HZOE'),\n ('HZOE', 'SOE'),\n ('SOE', 'ODAE'),\n ('ODAE', '8OETCG'),\n ('8OETCG', 'TO8O'),\n ('TO8O', 'EOE'),\n ('EOE', 'TG'),\n ('TG', 'HZG'),\n ('HZG', '4O'),\n ('4O', 'OE'),\n ('OE', 'TOIC2'),\n ('TOIC2', 'TCOE'),\n ('TCOE', '8OE'),\n ('8OE', 'HZCG'),\n ('HZCG', 'GDOE'),\n ('GDOE', '8OE'),\n ('8OE', '8OEO'),\n ('8OEO', 'GDOE'),\n ('GDOE', '8OE'),\n ('8OE', 'TO8G'),\n ('TO8G', 'ODOE'),\n ('ODOE', 'SOE'),\n ('SOE', 'DOE'),\n ('DOE', 'DCTG'),\n ('DCTG', 'TOE'),\n ('TOE', 'DG'),\n ('DG', 'TOE'),\n ('TOE', 'HZOE'),\n ('HZOE', 'TO8G'),\n ('TO8G', 'TOE'),\n ('TOE', '8AM'),\n ('8AM', 'SOR'),\n ('SOR', 'ODOE'),\n ('ODOE', 'TOE'),\n ('TOE', '8OE'),\n ('8OE', 'DG'),\n ('DG', '8AR'),\n ('8AR', 'SOE'),\n ('SOE', '8TOR'),\n ('8TOR', 'OHTO'),\n ('OHTO', '8AR'),\n ('8AR', 'SO8G'),\n ('SO8G', 'HAOR'),\n ('HAOR', 'TOHTCG'),\n ('TOHTCG', '8AE'),\n ('8AE', 'TO8G'),\n ('TO8G', '2TO8G'),\n ('2TO8G', 'POE'),\n ('POE', 'TO8AR'),\n ('DG8ANG', 'GPTOE'),\n ('GPTOE', '8AM'),\n ('8AM', 'OHTAE'),\n ('OHTAE', 'GPTAM'),\n ('GPTAM', 'DZOE2G'),\n ('DZOE2G', '8ORTORG'),\n ('8ORTORG', 'TDAR'),\n ('TDAR', '2'),\n ('2', 'SOR'),\n ('SOR', 'HZG'),\n ('HZG', 'HZO'),\n ('HZO', '4OHAM'),\n ('4OHAM', 'HZCG'),\n ('HZCG', 'G'),\n ('G', 'TOR'),\n ('TOR', 'TG'),\n ('TG', 'G8G'),\n ('G8G', 'TAM'),\n ('TAM', 'SAII8G'),\n ('SAII8G', 'THO88G'),\n ('THO88G', 'PZG'),\n ('PZG', '8AE2'),\n ('8AE2', 'TODAM'),\n ('TODAM', '8'),\n ('8', 'OHOTOR'),\n ('OHOTOR', 'AE'),\n ('AE', 'SO8AM'),\n ('SO8AM', 'TOE'),\n ('TOE', '8AL'),\n ('8AL', 'GHTAM'),\n ('GHTAM', '8AL'),\n ('8AL', '2AM'),\n ('2AM', '8AN8'),\n ('8AN8', '8DOE'),\n ('8DOE', '2OR'),\n ('2OR', 'GHOE8G'),\n ('GHOE8G', '8TOE'),\n ('8TOE', '8TG'),\n ('8TG', 'HZG'),\n ('HZG', 'SOR'),\n ('SOR', 'DZG'),\n ('DZG', '8AMG'),\n ('8AMG', 'TOE'),\n ('TOE', '8AL'),\n ('DG8AN', 'SAM'),\n ('SAM', '4OG'),\n ('4OG', '2'),\n ('2', 'SOE'),\n ('SOE', 'FO8AL'),\n ('FO8AL', 'GDS'),\n ('GDS', 'OESCCG'),\n ('OESCCG', '8AIIE8G'),\n ('8AIIE8G', '8E2SO'),\n ('8E2SO', 'DOE'),\n ('DOE', 'SCCG'),\n ('SCCG', '4ODCG'),\n ('4ODCG', 'GDO8G'),\n ('GDO8G', '2O'),\n ('2O', 'TOE'),\n ('TOE', 'GDG'),\n ('GDG', '8AN'),\n ('8AN', '8AIIROE'),\n ('8AIIROE', '4ODG'),\n ('4ODG', 'TOEAM'),\n ('TOEAM', 'SOE'),\n ('SOE', 'SCDG'),\n ('SCDG', '8AM'),\n ('8AM', 'HZCG'),\n ('HZCG', 'DCOE'),\n ('DCOE', '2'),\n ('2', 'AM'),\n ('AM', '2AM'),\n ('2AM', 'GTAN'),\n ('GTAN', '8AE'),\n ('8AE', 'TG'),\n ('TG', '8AEOR'),\n ('8AEOR', 'SAL'),\n ('SAL', '8AL'),\n ('8AL', 'OE2AM'),\n ('OE2AM', 'SCCG'),\n ('SCCG', 'DZOR'),\n ('DZOR', 'ODOE'),\n ('ODOE', 'TG'),\n ('TG', 'TOR'),\n ('TOR', 'HZOR'),\n ('HZOR', 'GOR'),\n ('GOR', 'AL'),\n ('AL', 'TAL'),\n ('TAL', '2AM'),\n ('2AM', 'TCHG'),\n ('TCHG', 'TGDG'),\n ('TGDG', '2AE'),\n ('2AE', 'SO'),\n ('SO', 'GDCCG'),\n ('GDCCG', 'TCG'),\n ('TCG', '8AM'),\n ('8AM', 'THZG'),\n ('DOOM', 'TCO'),\n ('TCO', 'PTOR'),\n ('PTOR', 'OHAM'),\n ('OHAM', 'O8AN'),\n ('O8AN', 'TOR'),\n ('TOR', '8AIR'),\n ('8AIR', 'SHG'),\n ('SHG', 'DTO'),\n ('DTO', 'DTG'),\n ('DTG', 'SO'),\n ('SO', 'SOE'),\n ('SOE', '4OHTO'),\n ('4OHTO', 'EOCCC2'),\n ('EOCCC2', '4OHG'),\n ('4OHG', 'TOR'),\n ('TOR', '8AM'),\n ('8AM', 'OHTG'),\n ('OHTG', 'TOR'),\n ('TOR', 'ESG'),\n ('ESG', 'TOE'),\n ('TOE', 'TO8G'),\n ('TO8G', 'TO8AN'),\n ('TO8AN', 'THZG'),\n ('THZG', '8AM'),\n ('8AM', 'SO'),\n ('SO', 'TOEO'),\n ('TOEO', 'TCOR'),\n ('TCOR', 'TO8AM'),\n ('DTOR', 'SG'),\n ('SG', '8AIM'),\n ('8AIM', 'TDZOG'),\n ('TDZOG', '2'),\n ('2', 'SCG'),\n ('SCG', '8OR'),\n ('8OR', 'TOE'),\n ('TOE', '8AM'),\n ('8AM', '8OR'),\n ('8OR', 'TOE'),\n ('TOE', 'TOR'),\n ('TOR', 'TOE'),\n ('TOE', 'DCOE'),\n ('DCOE', 'TG'),\n ('TG', 'THG'),\n ('THG', '8AM'),\n ('8AM', 'OHTOR'),\n ('OHTOR', 'TAL'),\n ('TAL', '8AM'),\n ('8AM', 'TOHTCG'),\n ('TOHTCG', '4OHCCCG'),\n ('4OHCCCG', 'TODCO2'),\n ('TODCO2', 'TCC2'),\n ('TCC2', 'TR'),\n ('TR', 'TCAM'),\n ('TCAM', 'TODOISC'),\n ('TODOISC', 'TOR'),\n ('TOR', 'TCOE'),\n ('TCOE', 'TOE'),\n ('TOE', '8OEO8G'),\n ('HSCO2', '4OPAE'),\n ('4OPAE', 'TOE'),\n ('TOE', 'HZOE'),\n ('HZOE', '8AIKK'),\n ('8AIKK', 'GTCOR'),\n ('GTCOR', 'TOR'),\n ('TOR', '8AK'),\n ('8AK', '4OHTAK'),\n ('4OHTAK', 'TAK'),\n ('TAK', 'OTOR'),\n ('OTOR', '4OTCOR'),\n ('4OTCOR', 'TOE'),\n ('TOE', '8AM'),\n ('8AM', 'HZG'),\n ('HZG', '2TCG'),\n ('2TCG', 'TOR'),\n ('TOR', 'TAE'),\n ('TAE', 'TAK'),\n ('TAK', 'TAK'),\n ('TAK', 'TO'),\n ('TO', '4ODOE'),\n ('4ODOE', 'TOEOEG'),\n ('TOEOEG', '2'),\n ('2', 'TAK'),\n ('TAK', 'HZOE'),\n ('HZOE', 'GTHAM'),\n ('GTHAM', 'TOR'),\n ('TOR', 'HZOK'),\n ('HZOK', 'OHAE'),\n ('OHAE', '8AK'),\n ('8AK', 'OHTOE'),\n ('OHTOE', '4O8AM'),\n ('4O8AM', 'TOK'),\n ('TOK', 'SOK'),\n ('SOK', '8AKO'),\n ('8AKO', 'GSCOR'),\n ('GSCOR', 'TOR'),\n ('TOR', 'TOE'),\n ('TOE', 'ODG'),\n ('ODG', '8AKO'),\n ('8AKO', 'SO'),\n ('SO', '0OR'),\n ('0OR', 'SCOE8AK'),\n ('SCOE8AK', 'OHTO8G'),\n ('OHTO8G', 'OE'),\n ('OE', 'G8AR'),\n ('G8AR', 'TOE'),\n ('TOE', 'HZOK'),\n ('PTCOE', 'SOE'),\n ('SOE', '2OE2'),\n ('2OE2', 'SCOE'),\n ('SCOE', 'SCG'),\n ('SCG', 'ODA8AM'),\n ('ODA8AM', '4ODTOR'),\n ('4ODTOR', '4O2TO8AK'),\n ('4O2TO8AK', 'OHZG'),\n ('OHZG', '4ODCCG'),\n ('4ODCCG', '4OHSCG'),\n ('4OHSCG', '4ODO8G'),\n ('4ODO8G', '4ODTCG'),\n ('4ODTCG', 'TCO8G'),\n ('TCO8G', 'TOR'),\n ('TOR', '4O8AIR'),\n ('4O8AIR', 'ODCCG'),\n ('ODCCG', '4ODCCG'),\n ('HSCOAROK', 'SOR'),\n ('SOR', 'OR'),\n ('OR', 'TOR'),\n ('TOR', 'OFT2G'),\n ('OFT2G', 'TOK'),\n ('TOK', 'OHTOK'),\n ('OHTOK', 'OPORAR'),\n ('OPORAR', 'OHCOE'),\n ('OHCOE', 'TOE'),\n ('TOE', '2'),\n ('2', 'TCOE'),\n ('TCOE', 'CDSG'),\n ('CDSG', '4ODCOK'),\n ('4ODCOK', '4ODOE'),\n ('4ODOE', '8AM'),\n ('8AM', '2OECCK'),\n ('2OECCK', '2OCOK'),\n ('2OCOK', 'ODCOK'),\n ('ODCOK', 'GHCO8G'),\n ('GHCO8G', '4ODCCO'),\n ('4ODCCO', '8AE'),\n ('8AE', '2AK'),\n ('PTCOE8OK', 'SO8AM'),\n ('SO8AM', '4OPTOR'),\n ('4OPTOR', '4OPOE'),\n ('4OPOE', 'OPTOE'),\n ('OPTOE', '4OHG'),\n ('4OHG', 'OHOEOK'),\n ('OHOEOK', 'OHTOR'),\n ('OHTOR', 'OE'),\n ('OE', 'TCOR'),\n ('TCOR', '4OCOR'),\n ('4OCOR', '8AIR'),\n ('8AIR', '4OHCOE'),\n ('4OHCOE', '4O2AM'),\n ('4O2AM', 'TOR'),\n ('TOR', 'HZG'),\n ('HZG', 'GTCOR'),\n ('GTCOR', 'TOE'),\n ('TOE', 'O8AM'),\n ('O8AM', 'TOE'),\n ('TOE', '2AM'),\n ('2AM', 'ODOEOR'),\n ('ODOEOR', 'AK'),\n ('DOAM', 'PZOR'),\n ('PZOR', '4OHOG'),\n ('4OHOG', 'SA'),\n ('SA', 'DZOE'),\n ('DZOE', 'GDOAM'),\n ('GDOAM', '2'),\n ('2', 'OEG'),\n ('OEG', '8AII8G'),\n ('8AII8G', '4OHCCOE'),\n ('4OHCCOE', 'ODTOR'),\n ('ODTOR', 'ODOR'),\n ('ODOR', 'OEGHOE'),\n ('OEGHOE', '8OE'),\n ('8OE', '8AR'),\n ('8AR', 'ODOK'),\n ('ODOK', 'TOE'),\n ('TOE', 'SOE'),\n ('SOE', '2CCC2'),\n ('2CCC2', 'TOK'),\n ('TOK', 'TCCGDAK'),\n ('TCCGDAK', 'ODAI0'),\n ('ODAI0', '4O8AR'),\n ('4O8AR', 'CC2'),\n ('CC2', 'CCG'),\n ('CCG', 'DTCOE'),\n ('DTCOE', 'ODAE'),\n ('ODAE', '8OR'),\n ('8OR', 'TCAR'),\n ('TCAR', 'CCL'),\n ('CCL', 'GCCCAR'),\n ('GCCCAR', 'OHTAE'),\n ('OHTAE', 'CCOR'),\n ('CCOR', 'CCAR'),\n ('CCAR', 'DZG'),\n ('DZG', 'OR'),\n ('OR', 'TCOR'),\n ('TCOR', 'DOR'),\n ('DOR', 'TO8AEG'),\n ('TO8AEG', 'TOK'),\n ('HTOR', 'OHTAK'),\n ('OHTAK', 'TOR'),\n ('TOR', 'FZAK'),\n ('FZAK', '2'),\n ('2', 'GDTG'),\n ('GDTG', 'DTOK'),\n ('DTOK', 'TOR'),\n ('TOR', 'TCDCOE'),\n ('TCDCOE', 'ODA'),\n ('ODA', 'GHTCCAR'),\n ('GHTCCAR', 'ODCOE'),\n ('ODCOE', 'HZO8OAEG'),\n ('HZO8OAEG', 'TOR'),\n ('TOR', 'HZG'),\n ('HZG', 'OTOR'),\n ('OTOR', '8AM'),\n ('8AM', '4ODSOE'),\n ('4ODSOE', '8AIIK'),\n ('8AIIK', 'TOE'),\n ('TOE', 'ODARG'),\n ('ODARG', 'SO'),\n ('SO', 'SODZO'),\n ('SODZO', 'DZG'),\n ('DZG', 'HTOR'),\n ('HTOR', 'TO8AM'),\n ('TO8AM', 'TOK'),\n ('TOK', 'OS'),\n ('OS', 'TO8AIR'),\n ('TO8AIR', 'GHTG'),\n ('GHTG', 'HTOR'),\n ('HTOR', 'DTAK'),\n ('DTAK', '2'),\n ('2', 'SAR'),\n ('SAR', 'SDAM'),\n ('SDAM', '4ODTG'),\n ('4ODTG', 'GHG'),\n ('GHG', 'HZAE'),\n ('HZAE', 'TDG'),\n ('TDG', '8AN'),\n ('8AN', 'SCAK'),\n ('SCAK', 'GHCAK'),\n ('DO8AETG', 'TPA8G'),\n ('TPA8G', 'SCOE'),\n ('SCOE', 'OE'),\n ('OE', 'SCCG'),\n ('SCCG', '4OHCG'),\n ('4OHCG', '8OM'),\n ('8OM', 'TOR'),\n ('TOR', 'GHOG'),\n ('GHOG', '8TOR'),\n ('8TOR', 'TOE'),\n ('TOE', 'SOE'),\n ('SOE', 'HZOE'),\n ('HZOE', 'SHTG'),\n ('SHTG', 'TAM'),\n ('TAM', '2'),\n ('2', 'TORAM'),\n ('TORAM', 'TOK'),\n ('TOK', 'OHTOE'),\n ('OHTOE', 'TOE'),\n ('TOE', 'TG'),\n ('TG', 'TAM'),\n ('TAM', '4OHAM'),\n ('4OHAM', '8AM'),\n ('8AM', 'SAN'),\n ('SAN', '4OHTOE'),\n ('4OHTOE', 'TG'),\n ('TG', 'GHG'),\n ('GHG', '8AM'),\n ('8AM', 'ODAM'),\n ('ODAM', 'HZG'),\n ('PG8AM', '4OHTG'),\n ('4OHTG', '8G'),\n ('8G', 'HG8G'),\n ('HG8G', 'TOR'),\n ('TOR', 'SG'),\n ('SG', 'HTG'),\n ('HTG', '8G'),\n ('8G', 'HTCCG'),\n ('HTCCG', '4OHAM'),\n ('4OHAM', 'HZOE'),\n ('HZOE', '8AM'),\n ('8AM', 'HZOK'),\n ('HZOK', 'TOR'),\n ('TOR', 'TOE'),\n ('TOE', 'SOE'),\n ('SOE', 'HZG'),\n ('HZG', 'PZOE8G'),\n ('PZOE8G', '8AM'),\n ('8AM', 'DZOTG'),\n ('DZOTG', 'HTG'),\n ('HTG', 'DORAM'),\n ('DORAM', 'O8AE'),\n ('O8AE', 'SOR'),\n ('SOR', 'SGSOE'),\n ('SGSOE', 'PZAM'),\n ('PZAM', '4OHTOM'),\n ('4OHTOM', 'SCAR'),\n ('SCAR', '4OHG'),\n ('4OHG', '2OM'),\n ('2OM', 'TAM'),\n ('TAM', 'TAM'),\n ('TAM', '8AM'),\n ('8AM', 'HZCG'),\n ('PTOOM', 'DSCA'),\n ('DSCA', 'DTOG'),\n ('DTOG', 'TAPTG'),\n ('TAPTG', '8OE82'),\n ('8OE82', '8EO8'),\n ('8EO8', 'OETCG'),\n ('OETCG', 'TG'),\n ('TG', 'HZG'),\n ('HZG', 'SDTOR'),\n ('SDTOR', 'SCO'),\n ('SCO', 'TCORG'),\n ('TCORG', 'TOE8G'),\n ('TOE8G', 'SO'),\n ('SO', 'SO'),\n ('SO', 'TAM'),\n ('TAM', 'SAM'),\n ('SAM', '8AM'),\n ('8AM', '4O8AM'),\n ('4O8AM', 'OARAK'),\n ('OARAK', '4ODSG'),\n ('4ODSG', '4OHZG'),\n ('4OHZG', 'TOHCOE'),\n ('TOHCOE', '8AM'),\n ('8AM', 'HZCG'),\n ('HZCG', 'TOAM'),\n ('TOAM', 'SOR'),\n ('SOR', 'SCCG'),\n ('SCCG', 'HZX'),\n ('HZX', 'OHOM'),\n ('OHOM', 'SCG'),\n ('SCG', '4OHTOM'),\n ('4OHTOM', 'TO8AN'),\n ('TO8AN', 'GHTOG'),\n ('GHTOG', 'SODTG'),\n ('SODTG', 'PZ'),\n ('PZ', 'O8G'),\n ('HORTG', 'SCCOR'),\n ('SCCOR', 'TOR'),\n ('TOR', 'TODTG'),\n ('TODTG', 'PZG8G'),\n ('PZG8G', 'OECL'),\n ('OECL', 'TOR'),\n ('TOR', 'HZOE'),\n ('HZOE', 'SO'),\n ('SO', 'OHOR'),\n ('OHOR', 'HZORG'),\n ('HZORG', '4OODO'),\n ('4OODO', 'IINTCOK'),\n ('IINTCOK', 'THZG'),\n ('THZG', 'SODG'),\n ('SODG', '8AM'),\n ('8AM', 'OHAM'),\n ('OHAM', 'SCO'),\n ('SCO', 'ODCO8G'),\n ('ODCO8G', 'TOE'),\n ('TOE', 'TODCO8G'),\n ('TODCO8G', 'SO'),\n ('SO', 'DTCOR'),\n ('DTCOR', 'SO8G'),\n ('SO8G', 'SHAM'),\n ('SHAM', '4OHOE'),\n ('4OHOE', '8AM'),\n ('8AM', '4ODCG'),\n ('4ODCG', 'SO'),\n ('SO', 'ODCOE'),\n ('ODCOE', '2'),\n ('2', 'DCCG'),\n ('DCCG', 'SAR'),\n ('SAR', 'TAR'),\n ('TAR', 'O8G'),\n ('O8G', 'SO8G'),\n ('SO8G', '2'),\n ('2', 'TCOR'),\n ('TCOR', 'TODO8G'),\n ('TODO8G', 'SO8AM'),\n ('SO8AM', '4OHG'),\n ('4OHG', 'OTO8G'),\n ('OTO8G', 'TG'),\n ('TG', 'DCG'),\n ('DCG', 'THO8G'),\n ('DSO8G', 'PTOG'),\n ('PTOG', 'TDOG'),\n ('TDOG', 'OAM'),\n ('OAM', 'OAR'),\n ('OAR', 'OE2G'),\n ('OE2G', 'TO8G'),\n ('TO8G', '8DSG'),\n ('8DSG', '8G'),\n ('8G', 'OTCG'),\n ('OTCG', 'ODCG'),\n ('ODCG', '4ODAM'),\n ('4ODAM', 'SO'),\n ('SO', 'DZOG'),\n ('DZOG', 'HZCG'),\n ('HZCG', 'TCG'),\n ('TCG', 'OD00OR'),\n ('OD00OR', 'OHOE'),\n ('OHOE', '4OAM'),\n ('4OAM', 'OHAL'),\n ('OHAL', 'TG'),\n ('TG', '8AM'),\n ('8AM', 'OHCCCL'),\n ('OHCCCL', 'TO'),\n ('TO', 'HZG'),\n ('HZG', 'OHTG'),\n ('OHTG', '4OHTO8G'),\n ('4OHTO8G', 'OHAN'),\n ('OHAN', 'SCO8G'),\n ('SCO8G', 'TAL'),\n ('TAL', '2'),\n ('2', 'TCOR'),\n ('TCOR', 'TOHZG'),\n ('HSG', 'SO8G'),\n ('SO8G', '4OAM'),\n ('4OAM', 'TOEOE2'),\n ('TOEOE2', 'SO'),\n ('SO', '4OHTCO'),\n ('4OHTCO', '8AM'),\n ('8AM', 'SO8AM'),\n ('SO8AM', 'SO'),\n ('SO', 'TCOR'),\n ('TCOR', 'TCG'),\n ('TCG', '4OCCCG'),\n ('4OCCCG', '4OGDCCCG'),\n ('4OGDCCCG', '4OCOR'),\n ('4OCOR', 'HZG'),\n ('HZG', 'SOHSG'),\n ('SOHSG', '8G'),\n ('8G', '4OHOCCG'),\n ('4OHOCCG', 'DCCG'),\n ('DCCG', 'TCO'),\n ('TCO', 'DTG'),\n ('DTG', 'SO8G'),\n ('D', 'O'),\n ('O', 'TCOR'),\n ('TCOR', 'TOR'),\n ('TOR', 'GHTCG'),\n ('GHTCG', 'PSO8'),\n ('PSO8', 'TOE2'),\n ('TOE2', 'TO8AM'),\n ('TO8AM', 'GHOIM'),\n ('GHOIM', '8AM'),\n ('8AM', '8TOE'),\n ('8TOE', 'SG'),\n ('SG', 'TOE'),\n ('TOE', 'OHAM'),\n ('OHAM', '8AN'),\n ('8AN', 'HZOR'),\n ('HZOR', 'TOH2'),\n ('TOH2', 'GTOPOR8K'),\n ('GTOPOR8K', '4OHTO'),\n ('4OHTO', 'GHOR'),\n ('GHOR', '8AM'),\n ('8AM', '8AM'),\n ('8AM', 'OHTOR'),\n ('OHTOR', '8AM'),\n ('8AM', '4O'),\n ('4O', '8ARTOR'),\n ('8ARTOR', '8O'),\n ('8O', '4OHOR'),\n ('4OHOR', 'SCC2'),\n ('SCC2', 'OHOF'),\n ('OHOF', 'GDOM'),\n ('GDOM', 'SOE'),\n ('SOE', '8AM'),\n ('8AM', 'HZOR'),\n ('HZOR', 'ODTG'),\n ('ODTG', 'HAM'),\n ('HAM', 'SODCCOE'),\n ('SODCCOE', 'TOR'),\n ('TOR', 'TCOHOE'),\n ('TCOHOE', 'OHTOE'),\n ('OHTOE', '8AM'),\n ('8AM', '8AE'),\n ('8AE', 'TOE'),\n ('TOE', 'TOHAM'),\n ('TOHAM', 'OHOF'),\n ('OHOF', 'TOE'),\n ('TOE', '8AIRO88'),\n ('FOAR', 'G'),\n ('G', 'SOE'),\n ('SOE', 'TOEOR'),\n ('TOEOR', 'PZOE'),\n ('PZOE', 'TOR'),\n ('TOR', 'TDZ'),\n ('TDZ', 'TOPTOE'),\n ('TOPTOE', 'OHTAK'),\n ('OHTAK', '8AM'),\n ('8AM', 'TDZG'),\n ('TDZG', 'TOR'),\n ('TOR', 'TOR'),\n ('TOR', 'DAR'),\n ('DAR', 'HZG'),\n ('HZG', 'HZOR'),\n ('HZOR', 'TOHOE2'),\n ('TOHOE2', 'POCCAR'),\n ('POCCAR', 'DSOR'),\n ('DSOR', 'TODG'),\n ('TODG', 'O2'),\n ('O2', 'TCOCC2'),\n ('TCOCC2', 'GDCOR'),\n ('GDCOR', 'GHAM'),\n ('GHAM', '8AK'),\n ('8AK', '8AR'),\n ('8AR', 'TO'),\n ('TO', '2'),\n ('2', 'SCOR'),\n ('SCOR', 'TOHZG'),\n ('TOHZG', 'OHTAK'),\n ('OHTAK', 'GAIIR'),\n ('GAIIR', 'TG'),\n ('TG', 'HAR'),\n ('HAR', 'ODOM'),\n ('ODOM', 'SCC2'),\n ('SCC2', 'GHAEG'),\n ('GHAEG', 'HZAM'),\n ('HZAM', 'O8AK'),\n ('O8AK', 'OR'),\n ('OR', 'AE'),\n ('AE', '8AM'),\n ('8AM', 'DZAK'),\n ('DZAK', 'ODOK'),\n ('ODOK', 'HZAM'),\n ('HZAM', 'G8AM'),\n ('G8AM', '8AM'),\n ('8AM', '4O8AM'),\n ('4O8AM', 'TO'),\n ('TO', '2'),\n ('2', 'TOE'),\n ('TOE', 'ODAM'),\n ('ODAM', '2'),\n ('2', 'GTOE'),\n ('GTOE', 'DZOR'),\n ('DZOR', 'PTAR'),\n ('PTAR', 'SCA'),\n ('SCA', 'DZAM'),\n ('DZAM', '8AR'),\n ('8AR', 'SCCOE'),\n ('SCCOE', '2DAIIO8AR'),\n ('2DAIIO8AR', 'OHAM'),\n ('OHAM', 'TORG'),\n ('TORG', 'HTOR'),\n ('HTOR', 'HZCO8'),\n ('HZCO8', 'TG'),\n ('TG', 'SOR'),\n ('SOR', 'O8SC'),\n ('O8SC', 'O8'),\n ('O8', 'GTAR'),\n ('GTAR', 'OETA8'),\n ('OETA8', 'OETODAM'),\n ('OETODAM', 'OR'),\n ('OR', 'SOE'),\n ('SOE', 'HZOK'),\n ('HZOK', 'TOR'),\n ('TOR', 'HZG'),\n ('HZG', '4OHZOE'),\n ('4OHZOE', '4O8AM'),\n ('4O8AM', 'HZG'),\n ('HZG', 'GSO'),\n ('GSO', 'HAM'),\n ('HAM', 'GDAIIK'),\n ('DOARG', '2AR'),\n ('2AR', 'TCCDAR'),\n ('TCCDAR', '4OOR'),\n ('4OOR', 'SOR'),\n ('SOR', 'TAPTG'),\n ('TAPTG', '2'),\n ('2', 'TCAR'),\n ('TCAR', 'TAR'),\n ('TAR', 'OHTG'),\n ('OHTG', 'OCC2'),\n ('OCC2', 'TOR'),\n ('TOR', 'TDZG'),\n ('TDZG', '4OCDTAR'),\n ('4OCDTAR', 'TCA2'),\n ('TCA2', 'O8AM'),\n ('O8AM', 'DTCG'),\n ('DTCG', 'TOR'),\n ('TOR', 'TAM'),\n ('TAM', '4OAIR'),\n ('4OAIR', 'DZG'),\n ('DZG', 'TOE'),\n ('TOE', 'OOTODZG'),\n ('OOTODZG', 'TCDTOG'),\n ('TCDTOG', 'DZG'),\n ('DZG', 'ODOE'),\n ('ODOE', '2GTO2'),\n ('2GTO2', 'GTDZG'),\n ('GTDZG', 'GHTOG'),\n ('GHTOG', '2O2'),\n ('2O2', 'G'),\n ('G', '8A8G'),\n ('8A8G', '8TG'),\n ('8TG', '8CG'),\n ('8CG', 'ODO8G'),\n ('ODO8G', 'GHO8G'),\n ('GHO8G', '8AN'),\n ('8AN', 'S00'),\n ('S00', 'TO8AK'),\n ('TO8AK', '8AK'),\n ('8AK', 'ODOR'),\n ('ODOR', 'OHG'),\n ('OHG', '8OE'),\n ('8OE', '8OK'),\n ('HTO8G', 'SOHZOE'),\n ('SOHZOE', 'TOHZG'),\n ('TOHZG', '2'),\n ('2', 'GTO2'),\n ...]"
     },
     "execution_count": 220,
     "metadata": {},
     "output_type": "execute_result"
    }
   ],
   "source": [
    "def find_bigrams(text):\n",
    "    bigrams = []\n",
    "    for i, word in enumerate(text):\n",
    "        if i<len(text)-1:\n",
    "            if not re.match(PUNCT_REGEX, word) and not re.match(PUNCT_REGEX, text[i+1]):\n",
    "                bigrams.append((word, text[i+1]))\n",
    "    return bigrams\n",
    "\n",
    "bigrams = find_bigrams(text)\n",
    "bigrams"
   ],
   "metadata": {
    "collapsed": false
   }
  },
  {
   "cell_type": "code",
   "execution_count": 221,
   "outputs": [],
   "source": [
    "def count_occurance(bigrams):\n",
    "    bigrams_count = {}\n",
    "    for bigram in bigrams:\n",
    "        if bigram in bigrams_count.keys():\n",
    "            bigrams_count[bigram] += 1\n",
    "        else:\n",
    "            bigrams_count[bigram] = 1\n",
    "\n",
    "    bigrams_count = dict(sorted(bigrams_count.items(), key=lambda item: item[1], reverse=True))\n",
    "    return bigrams_count"
   ],
   "metadata": {
    "collapsed": false
   }
  },
  {
   "cell_type": "code",
   "execution_count": 222,
   "outputs": [
    {
     "data": {
      "text/plain": "{('TOE', '8AM'): 30,\n ('TOE', 'TOE'): 19,\n ('8AM', '8AM'): 12,\n ('8AM', 'HZG'): 11,\n ('TOR', '8AM'): 10,\n ('TG', '8AM'): 9,\n ('SOE', '8AM'): 9,\n ('TOR', 'TOE'): 8,\n ('TOE', 'SOE'): 8,\n ('8AM', 'HZOR'): 8,\n ('8AM', 'SO'): 7,\n ('TOE', 'TOR'): 7,\n ('8AM', '8AE'): 7,\n ('OR', 'AM'): 7,\n ('8AM', 'TOE'): 7,\n ('TOE', 'HZOE'): 6,\n ('8AM', 'HZOE'): 6,\n ('HZG', '8AM'): 6,\n ('8AM', 'TOR'): 6,\n ('OHOE', 'TOE'): 6,\n ('8AN', '8AM'): 6,\n ('8AM', '8AN'): 6,\n ('TG', 'DTG'): 6,\n ('8AM', '8AK'): 6,\n ('SG', '8AM'): 6,\n ('8AM', 'SOR'): 5,\n ('4ODOE', '8AM'): 5,\n ('TOR', 'TOR'): 5,\n ('HZOE', 'TOE'): 5,\n ('8G', '8AM'): 5,\n ('SOR', '8AM'): 5,\n ('8AM', 'TG'): 5,\n ('8G', '8G'): 5,\n ('TOE', 'HZG'): 5,\n ('8AM', '4ODTG'): 5,\n ('4ODG', '8AM'): 5,\n ('8AM', '8G'): 5,\n ('OHOE', '8AM'): 5,\n ('8AM', 'OR'): 5,\n ('8AM', '2'): 5,\n ('TG', 'TG'): 5,\n ('8AM', 'ODAM'): 4,\n ('HZOE', '8AM'): 4,\n ('8AR', 'TCG'): 4,\n ('TOR', 'TG'): 4,\n ('2', 'AM'): 4,\n ('8AM', 'THZG'): 4,\n ('TOE', 'TO8G'): 4,\n ('8OR', 'TOE'): 4,\n ('TOE', 'TG'): 4,\n ('8AM', 'TDZG'): 4,\n ('ODTOR', '8AM'): 4,\n ('TOR', 'SCCG'): 4,\n ('OR', 'TOE'): 4,\n ('TOE', 'OR'): 4,\n ('8AM', '4OHTG'): 4,\n ('OE', '2'): 4,\n ('ODAM', 'ODAM'): 4,\n ('2AM', '8AM'): 4,\n ('8G', 'TOE'): 4,\n ('4OHTG', '4ODTG'): 4,\n ('8AM', '4OHOE'): 4,\n ('SO', 'HZG'): 4,\n ('TOE', 'TAM'): 4,\n ('OE', '8AM'): 4,\n ('8AM', 'SOE'): 4,\n ('8AM', 'TC8G'): 4,\n ('SO', 'TOE'): 3,\n ('8AR', 'SCG'): 3,\n ('ODOE', '8AM'): 3,\n ('ODG', '8AM'): 3,\n ('TAR', 'OR'): 3,\n ('TG', 'HZG'): 3,\n ('TOE', '8OE'): 3,\n ('SOR', 'HZG'): 3,\n ('8AM', 'HZCG'): 3,\n ('TOR', 'HZOR'): 3,\n ('SO', 'SOE'): 3,\n ('8AM', '8OR'): 3,\n ('8AM', 'OHTOR'): 3,\n ('TCOE', 'TOE'): 3,\n ('TOR', 'HZG'): 3,\n ('DZG', 'OR'): 3,\n ('TG', 'TAM'): 3,\n ('ODAM', 'HZG'): 3,\n ('TAM', 'SAM'): 3,\n ('8AM', 'OHAM'): 3,\n ('4OHOE', '8AM'): 3,\n ('2', 'TCOR'): 3,\n ('HZG', 'OHTG'): 3,\n ('TCOR', 'TCG'): 3,\n ('TCOR', 'TOR'): 3,\n ('OHTOE', '8AM'): 3,\n ('TOE', 'ODAM'): 3,\n ('HZG', '2'): 3,\n ('8AN', 'SO'): 3,\n ('TOR', 'TCOR'): 3,\n ('TG', 'HAM'): 3,\n ('8AR', '8AM'): 3,\n ('SO', 'DTOE'): 3,\n ('HZOR', 'TOE'): 3,\n ('GDAM', '8AM'): 3,\n ('8AM', 'OHAE'): 3,\n ('8AM', '4ODTO'): 3,\n ('DTOE', 'TOE'): 3,\n ('SG', '8TG'): 3,\n ('4OHTOR', 'TOR'): 3,\n ('8AM', '8AR'): 3,\n ('8AM', 'DZG'): 3,\n ('TOE', '8G'): 3,\n ('GDCCG', '8AM'): 3,\n ('HZG', '8G'): 3,\n ('ODG', 'TOE'): 3,\n ('8AM', '2G'): 3,\n ('4OHTG', '8AM'): 3,\n ('SCG', '8AM'): 3,\n ('4OHG', 'TG'): 3,\n ('SOE', '4ODOE'): 3,\n ('ODAE', '8AR'): 3,\n ('8G', '8OR'): 3,\n ('4OHCCG', '8AM'): 3,\n ('TCCG', '8AM'): 3,\n ('DTOE', 'SOE'): 3,\n ('SOE', 'TOE'): 3,\n ('8AM', 'TDAM'): 3,\n ('8AM', 'GDAM'): 3,\n ('8AM', 'SDZG'): 3,\n ('TC8G', 'GHC8G'): 3,\n ('8AM', 'TCG'): 3,\n ('TDZG', '2AM'): 3,\n ('TC8G', '8AM'): 3,\n ('HZOE', '8G'): 3,\n ('AM', 'ODAE'): 3,\n ('8A', 'M'): 3,\n ('ODAR', 'T8G'): 3,\n ('8AR', 'AM'): 3,\n ('OR', 'AR'): 3,\n ('OR', 'OE'): 3,\n ('8AM', 'OHAK'): 3,\n ('ODCCG', '8AM'): 3,\n ('SOR', 'SOE'): 3,\n ('8AM', '8'): 3,\n ('TC8G', '8AR'): 3,\n ('AM', 'ODAM'): 3,\n ('ODAR', 'AR'): 3,\n ('4ODAR', 'ODAR'): 3,\n ('ODAE', 'TOE'): 3,\n ('8AE', 'SC8G'): 3,\n ('8AM', 'TODG'): 3,\n ('HZAR', 'HZAR'): 2,\n ('ODAM', 'OR'): 2,\n ('SG', 'SOE'): 2,\n ('DO2', '8AM'): 2,\n ('TOE', 'O8AM'): 2,\n ('TOE', 'DOR'): 2,\n ('TOE', 'SO'): 2,\n ('TO8AM', 'SO'): 2,\n ('TOE', '8AN'): 2,\n ('8AM', 'ODTCG'): 2,\n ('DCCG', '8AE'): 2,\n ('OR', 'OTG'): 2,\n ('8AE', '8OE'): 2,\n ('TODG', 'TOE'): 2,\n ('GDOE', '8OE'): 2,\n ('SOE', 'DOE'): 2,\n ('DG', 'TOE'): 2,\n ('SOR', 'ODOE'): 2,\n ('8OE', 'DG'): 2,\n ('8AR', 'SOE'): 2,\n ('TOE', '8AL'): 2,\n ('8TG', 'HZG'): 2,\n ('2O', 'TOE'): 2,\n ('TG', 'TOR'): 2,\n ('TAL', '2AM'): 2,\n ('SO', 'GDCCG'): 2,\n ('GDCCG', 'TCG'): 2,\n ('TCG', '8AM'): 2,\n ('8AM', 'OHTG'): 2,\n ('THZG', '8AM'): 2,\n ('TAL', '8AM'): 2,\n ('GTCOR', 'TOR'): 2,\n ('HZG', '2TCG'): 2,\n ('TO', '4ODOE'): 2,\n ('TOR', 'HZOK'): 2,\n ('OHAE', '8AK'): 2,\n ('OR', 'TOR'): 2,\n ('TOE', '2'): 2,\n ('OE', 'TCOR'): 2,\n ('8OE', '8AR'): 2,\n ('8OR', 'TCAR'): 2,\n ('8OM', 'TOR'): 2,\n ('8TOR', 'TOE'): 2,\n ('OHTOE', 'TOE'): 2,\n ('8AM', 'SAN'): 2,\n ('GHG', '8AM'): 2,\n ('SG', 'HTG'): 2,\n ('HTG', '8G'): 2,\n ('8AM', 'HZOK'): 2,\n ('HZOK', 'TOR'): 2,\n ('SOE', 'HZG'): 2,\n ('TAM', '8AM'): 2,\n ('SO', 'SO'): 2,\n ('8AM', '4O8AM'): 2,\n ('TOR', 'HZOE'): 2,\n ('SO', 'OHOR'): 2,\n ('TG', 'DCG'): 2,\n ('4ODAM', 'SO'): 2,\n ('TO', 'HZG'): 2,\n ('SO', 'TCOR'): 2,\n ('OHTOR', '8AM'): 2,\n ('TOR', 'DAR'): 2,\n ('TO', '2'): 2,\n ('OR', 'AE'): 2,\n ('2', 'TOE'): 2,\n ('2', 'GTOE'): 2,\n ('4O8AM', 'HZG'): 2,\n ('TCAR', 'TAR'): 2,\n ('TOR', 'TDZG'): 2,\n ('OHG', '8OE'): 2,\n ('TOHZG', '2'): 2,\n ('GTOR', 'TOR'): 2,\n ('8AE', 'TOR'): 2,\n ('2', 'TOR'): 2,\n ('O2', 'TG'): 2,\n ('TOHG', '4ODTG'): 2,\n ('TOHG', '8AN'): 2,\n ('SCG', 'HTO8G'): 2,\n ('8AM', '4ODG'): 2,\n ('HZOE', 'HZG'): 2,\n ('8G', 'DTG'): 2,\n ('8OR', 'TCCG'): 2,\n ('8OE', '8AM'): 2,\n ('4OHOR', 'TOR'): 2,\n ('8TO', '8AM'): 2,\n ('SO', 'TCG'): 2,\n ('TCG', 'DSCG'): 2,\n ('SOE', 'DAM'): 2,\n ('TOE', '8AR'): 2,\n ('TOE', 'HZOR'): 2,\n ('TO', 'RAM'): 2,\n ('ODOR', 'TCG'): 2,\n ('8TG', '8AM'): 2,\n ('8AM', '8TOR'): 2,\n ('HZOR', 'OHOE'): 2,\n ('TO8G', '8AM'): 2,\n ('8AEG', '8AM'): 2,\n ('OHTG', '8AM'): 2,\n ('TAM', 'THZG'): 2,\n ('THZG', 'HZO'): 2,\n ('4ODTG', '4OHTOE'): 2,\n ('HZG', 'TOR'): 2,\n ('8AIR', 'AK'): 2,\n ('SOR', 'TOR'): 2,\n ('4OHTG', '4OHOR'): 2,\n ('8AM', 'SCO'): 2,\n ('4OHG', '8AM'): 2,\n ('8AM', '8SO'): 2,\n ('SOM', '8AM'): 2,\n ('TG', 'DG'): 2,\n ('8AM', 'GHTG'): 2,\n ('DTOE', '8AM'): 2,\n ('8AM', '4OHG'): 2,\n ('SOR', 'SOR'): 2,\n ('8AIR', 'TO8G'): 2,\n ('2', '8AM'): 2,\n ('TGDG', '8TG'): 2,\n ('8TG', '4ODG'): 2,\n ('4OHTOR', '8G'): 2,\n ('HZOR', 'SG'): 2,\n ('8OR', '8AM'): 2,\n ('OHG', 'SOR'): 2,\n ('8AM', 'G8AN'): 2,\n ('DTOR', '8AM'): 2,\n ('4ODTOE', '8AR'): 2,\n ('GDAM', '2'): 2,\n ('8TO', 'DTG'): 2,\n ('8G', 'SCG'): 2,\n ('8AR', '4OHG'): 2,\n ('TCG', 'HCOR'): 2,\n ('TCG', 'HTG'): 2,\n ('HZOR', 'OHG'): 2,\n ('OHG', '4OHG'): 2,\n ('HSOR', 'SCG'): 2,\n ('2', '8AN'): 2,\n ('ODAM', 'OHAM'): 2,\n ('SCCG', 'HZG'): 2,\n ('TAM', 'TG'): 2,\n ('HZOR', '8AM'): 2,\n ('8AM', '4ODOR'): 2,\n ('TOHG', 'DAM'): 2,\n ('HOR', 'OE'): 2,\n ('TCOR', 'TOE'): 2,\n ('TODTG', '4ODTO'): 2,\n ('ODAM', 'TOE'): 2,\n ('8OR', 'OHTOE'): 2,\n ('O8AM', 'ODAE'): 2,\n ('GTOE', 'TOE'): 2,\n ('OR', 'ODAM'): 2,\n ('OR', 'OHAM'): 2,\n ('HAM', 'OE'): 2,\n ('ODAR', 'ODOE'): 2,\n ('GTOR', 'HZG'): 2,\n ('TOE', '8OR'): 2,\n ('4ODTOR', 'TOR'): 2,\n ('OR', 'TCG'): 2,\n ('THZG', '8AR'): 2,\n ('SAM', 'HZG'): 2,\n ('8ARG', 'TOE'): 2,\n ('8A', 'R'): 2,\n ('DTG', '4OHTOE'): 2,\n ('TOR', 'G'): 2,\n ('TDZG', 'SG'): 2,\n ('OHTG', 'HTG'): 2,\n ('8AR', 'OR'): 2,\n ('ODG', 'TOR'): 2,\n ('TG', 'TOM'): 2,\n ('8AM', 'OTOE'): 2,\n ('4OH', 'SCG'): 2,\n ('TG', 'HOE'): 2,\n ('SO', 'OR'): 2,\n ('HZG', 'TOE'): 2,\n ('2AM', 'TPZG'): 2,\n ('TCG', 'DCCG'): 2,\n ('8AM', 'HZAN'): 2,\n ('SOE', 'HTOE'): 2,\n ('O8AM', 'SCG'): 2,\n ('HZOR', '8AN'): 2,\n ('4ODTG', '8AR'): 2,\n ('8OE', 'OR'): 2,\n ('8TOE', '8AM'): 2,\n ('2OR', 'SG'): 2,\n ('4ODTG', '8AM'): 2,\n ('8AN', 'TOE'): 2,\n ('OE', '8OE'): 2,\n ('R', 'OE'): 2,\n ('TCAR', 'SOR'): 2,\n ('8AM', '2OE'): 2,\n ('2OE', '8AM'): 2,\n ('4ODAM', '8AN'): 2,\n ('AR', 'OR'): 2,\n ('2', 'AK'): 2,\n ('8G', '2AR'): 2,\n ('2', 'TCG'): 2,\n ('HOE', 'TOE'): 2,\n ('SO', '8G'): 2,\n ('8G', '8TCG'): 2,\n ('SO', 'TG'): 2,\n ('8AM', 'TAN'): 2,\n ('DZCG', '8AM'): 2,\n ('4ODCC8G', '4ODC8G'): 2,\n ('2AR', '8AM'): 2,\n ('8AM', 'SC8G'): 2,\n ('DCO8G', 'SC8G'): 2,\n ('TG', '2AIR'): 2,\n ('SOE', '8AN'): 2,\n ('TOE', 'SG'): 2,\n ('TG', '8TG'): 2,\n ('8AM', '8AIR'): 2,\n ('TOE', '8AE'): 2,\n ('OHG', 'TG'): 2,\n ('8AL', '8AN'): 2,\n ('HZOE', 'SOR'): 2,\n ('8AIM', '8AM'): 2,\n ('TG', '4OHTG'): 2,\n ('TOR', 'SO'): 2,\n ('TCG', 'DOR'): 2,\n ('8', 'G'): 2,\n ('TOR', 'TCDG'): 2,\n ('8AR', 'TOR'): 2,\n ('8AM', 'ODCC8G'): 2,\n ('8AM', '4ODCCG'): 2,\n ('4ODCG', '8AM'): 2,\n ('SC8G', '4ODC8G'): 2,\n ('8AR', 'SC8'): 2,\n ('DTO8G', '8AM'): 2,\n ('AR', 'AM'): 2,\n ('TC8G', 'ODCCG'): 2,\n ('DZG', '8AE'): 2,\n ('HZO', '8AM'): 2,\n ('4ODTG', '4OHOE'): 2,\n ('8AM', 'TODTG'): 2,\n ('TCDG', '4ODC8G'): 2,\n ('ODAE', 'OHAE'): 2,\n ('HAR', 'AR'): 2,\n ('AR', '8AM'): 2,\n ('ODAM', 'TDZG'): 2,\n ('TCDG', '8G'): 2,\n ('8AR', 'OEAM'): 2,\n ('ODAR', 'ODC8G'): 2,\n ('SC8G', 'SC8G'): 2,\n ('4ODC8G', '8AE'): 2,\n ('4ODT8G', '2AR'): 2,\n ('TDZG', 'T8AE'): 2,\n ('4ODAR', 'AR'): 2,\n ('TOR', 'AR'): 2,\n ('AR', 'GDAR'): 2,\n ('GDAR', 'OE'): 2,\n ('TC8G', '4ODAR'): 2,\n ('OHAR', 'AR'): 2,\n ('TC8G', '4ODC8G'): 2,\n ('4ODC8G', 'T8G'): 2,\n ('8AM', 'T8G'): 2,\n ('AM', '4OHTG'): 2,\n ('HTG', '8AM'): 2,\n ('8AM', '4OHAR'): 2,\n ('8AM', 'G'): 2,\n ('SOR', 'SCOR'): 2,\n ('8AM', 'TOHAM'): 2,\n ('O8G', '8AM'): 2,\n ('OHAM', 'OHAM'): 2,\n ('DCCG', '8AM'): 2,\n ('T8G', '8AIR'): 2,\n ('OR', 'TCCG'): 2,\n ('8AR', 'AR'): 2,\n ('AR', 'AE'): 2,\n ('AM', '8AE'): 2,\n ('T8AK', '4ODAK'): 2,\n ('OEDG', '8AR'): 2,\n ('TO8G', 'TCOR'): 2,\n ('OHAR', 'OR'): 2,\n ('SC8G', '4ODAR'): 2,\n ('SO8G', 'ODAE'): 2,\n ('ODAE', 'S8G'): 2,\n ('GDAR', 'OR'): 2,\n ('ODC8G', '8AR'): 2,\n ('OE', 'TC8G'): 2,\n ('8AK', 'HOR'): 2,\n ('K', 'HAM'): 2,\n ('4ODOE', 'TC8G'): 2,\n ('SOE', 'DC8G'): 2,\n ('R', 'GHCCG'): 2,\n ('TCDG', '8AEG'): 2,\n ('4ODC8G', 'TC8G'): 2,\n ('TC8G', 'TDZG'): 2,\n ('ODAEG', '8AM'): 2,\n ('SOE', 'SOE'): 2,\n ('8AM', '4OHCCG'): 2,\n ('AR', 'TCHG'): 2,\n ('GHG', 'OHG'): 2,\n ('O8G', 'SG'): 2,\n ('8AK', 'GHAK'): 2,\n ('8AM', '4ODC8G'): 2,\n ('OHC8G', 'TC8G'): 2,\n ('T8G', 'ODC8G'): 2,\n ('8AM', 'SCO8G'): 2,\n ('TC8G', 'ODCC8G'): 2,\n ('4ODG', '4OHTG'): 2,\n ('TOE', '8AK'): 2,\n ('SOE', 'TCG'): 2,\n ('TOE', 'TODG'): 2,\n ('8AM', 'SCC8G'): 2,\n ('TDZG', '8AM'): 2,\n ('TCDAE', 'TDZG'): 2,\n ('HTCG', 'SG'): 2,\n ('SC8G', 'TC8G'): 2,\n ('OHG', '8AK'): 2,\n ('TOE', 'DAR'): 2,\n ('4ODAR', '8G'): 2,\n ('2OE', 'THZO'): 2,\n ('THZO', 'R'): 2,\n ('8AM', 'ODAR'): 2,\n ('4ODT8G', 'OR'): 2,\n ('AE8G', 'OHAE'): 2,\n ('8OR', '2'): 2,\n ('DZCOE', 'TOE'): 2,\n ('SOK', 'SOE'): 2,\n ('2', 'AR'): 2,\n ('8AE', 'S8G'): 2,\n ('SOEAR', 'AM'): 2,\n ('8AE', 'TCDAE'): 2,\n ('FGAG2', 'GDAE'): 1,\n ('GDAE', 'AR'): 1,\n ('AR', 'GHAM'): 1,\n ('GHAM', 'SOE'): 1,\n ('SOE', 'SORG'): 1,\n ('SORG', '0D0RC2'): 1,\n ('0D0RC2', 'GDOR'): 1,\n ('GDOR', 'SOE8G'): 1,\n ('SOE8G', '2ORG'): 1,\n ('2ORG', 'DZAR'): 1,\n ('DZAR', 'ORG'): 1,\n ('ORG', 'DAIR'): 1,\n ('DAIR', 'THAM'): 1,\n ('THAM', 'SOR'): 1,\n ('SOR', 'AR'): 1,\n ('AR', 'HZAR'): 1,\n ('HZAR', '8ALA'): 1,\n ('8ALA', '2GAIIR'): 1,\n ('2GAIIR', 'SCDG'): 1,\n ('SCDG', 'OR'): 1,\n ('OR', 'GDAM'): 1,\n ('GDAM', 'SO8'): 1,\n ('SO8', 'HZOARG'): 1,\n ('HZOARG', 'HZC2'): 1,\n ('HZC2', '8ARAM'): 1,\n ('8ARAM', '2G'): 1,\n ('2G', '0OM'): 1,\n ('0OM', 'OHCCG'): 1,\n ('OHCCG', 'OHCAR'): 1,\n ('OHCAR', 'ROEOHG'): 1,\n ('ROEOHG', 'HZAAR'): 1,\n ('HZAAR', '8AM'): 1,\n ('OR', 'ODAL'): 1,\n ('ODAL', '2AIRG'): 1,\n ('2AIRG', 'TCAR'): 1,\n ('TCAR', 'HZAM'): 1,\n ('HZAM', 'PZAR'): 1,\n ('PZAR', 'FZAM'): 1,\n ('O8AR', 'SG'): 1,\n ('SOE', 'PZOG'): 1,\n ('PZOG', 'OG8AR'): 1,\n ('OG8AR', 'S'): 1,\n ('S', '2'): 1,\n ('2', 'FZOAM'): 1,\n ('FZOAM', 'SO8ARG'): 1,\n ('SO8ARG', 'GSCG'): 1,\n ('GSCG', 'SO8G'): 1,\n ('SO8G', 'ODTO'): 1,\n ('ODTO', 'G'): 1,\n ('G', 'OHTOE'): 1,\n ('OHTOE', 'TOHZG'): 1,\n ('TOHZG', 'O2TG'): 1,\n ('O2TG', '8AN'): 1,\n ('8AN', 'TOR'): 1,\n ('TOR', 'DO2'): 1,\n ('SOR', 'FZOE'): 1,\n ('FZOE', 'SO8G'): 1,\n ('8AN', '02'): 1,\n ('02', 'HCO8G'): 1,\n ('G8AN', 'PZC2AM'): 1,\n ('PZC2AM', 'OE2'): 1,\n ('OE2', 'PZCG'): 1,\n ('PZCG', 'GHAN'): 1,\n ('GHAN', 'SOSG'): 1,\n ('SOSG', 'PZO8AEC2'): 1,\n ('PZO8AEC2', 'ODSO'): 1,\n ('ODSO', 'DSOG'): 1,\n ('DSOG', 'OHAIRN'): 1,\n ('OHAIRN', 'OHCOE'): 1,\n ('OHCOE', 'ODAL'): 1,\n ('ODAL', 'SO8AN'): 1,\n ('SO8AN', '2DZCG'): 1,\n ('2DZCG', '8AM'): 1,\n ('8AM', 'SOG'): 1,\n ('SOG', 'DZCG'): 1,\n ('DZCG', 'DO8AM'): 1,\n ('DO8AM', 'PZG'): 1,\n ('PZG', 'PZ08AIIE2'): 1,\n ('PZ08AIIE2', 'HZCG'): 1,\n ('HZCG', 'SC'): 1,\n ('SC', 'OE8AN'): 1,\n ('OE8AN', '8'): 1,\n ('8', '8AN'): 1,\n ('8AN', 'OM'): 1,\n ('OM', 'TOE'): 1,\n ('O8AM', 'TO8AN'): 1,\n ('TO8AN', 'T8G'): 1,\n ('T8G', 'ODON'): 1,\n ('ODON', '80R'): 1,\n ('80R', 'HZG'): 1,\n ('HZG', 'DO8'): 1,\n ('DO8', '8AM'): 1,\n ('8AM', 'SDZCG'): 1,\n ('SDZCG', 'DZOR'): 1,\n ('DZOR', 'TOR'): 1,\n ('TOR', 'SCG'): 1,\n ('SCG', 'DOE'): 1,\n ('DOE', 'TOE'): 1,\n ('DOR', 'TOE'): 1,\n ('TOE', 'SO8AL'): 1,\n ('SO8AL', 'DSG'): 1,\n ('DSG', 'DTG'): 1,\n ('DTG', '8OR'): 1,\n ('8OR', 'TO8AM'): 1,\n ('SO', 'DOCAK'): 1,\n ('DOCAK', 'GTO'): 1,\n ('GTO', 'HTCG'): 1,\n ('HTCG', 'TCDAN'): 1,\n ('TCDAN', 'SCO'): 1,\n ('SCO', 'PSOE'): 1,\n ('PSOE', '8G8G8'): 1,\n ('8G8G8', 'HZG'): 1,\n ('HZG', '8AIHZG'): 1,\n ('8AIHZG', 'GHO'): 1,\n ('GHO', 'SOE'): 1,\n ('SOE', 'SC'): 1,\n ('SC', 'DO8SCG'): 1,\n ('DO8SCG', 'PZCAEG'): 1,\n ('PZCAEG', '8ARAN'): 1,\n ('8ARAN', '8AN'): 1,\n ('8AN', 'DZG82'): 1,\n ('DZG82', '8TAR'): 1,\n ('8TAR', 'SHZAM'): 1,\n ('SHZAM', 'ODAIIR'): 1,\n ('ODAIIR', 'TCG'): 1,\n ('TCG', '2TG'): 1,\n ('2TG', 'PZHOE'): 1,\n ('PZHOE', 'HZOE2'): 1,\n ('HZOE2', '8AOCHA'): 1,\n ('8AOCHA', 'SOD'): 1,\n ('SOD', 'TOR'): 1,\n ('TOR', 'TCG'): 1,\n ('TCG', '8AN'): 1,\n ('8AN', 'DZCG'): 1,\n ('OHOE', '8AIM'): 1,\n ('PZO', 'SAM'): 1,\n ('SAM', 'SODTCCG'): 1,\n ('SODTCCG', 'TOE'): 1,\n ('TOE', 'HSO8CC2G'): 1,\n ('HSO8CC2G', 'SCG'): 1,\n ('SCG', 'PG8CCG'): 1,\n ('PG8CCG', 'TG'): 1,\n ('TG', 'RO8'): 1,\n ('RO8', '00ON'): 1,\n ('00ON', 'TOE'): 1,\n ('8AN', 'HZAE'): 1,\n ('HZAE', '8AR'): 1,\n ('8AR', 'SCAR'): 1,\n ('SCAR', 'DAM'): 1,\n ('DAM', '8AR'): 1,\n ('SCG', 'HZCAR'): 1,\n ('HZCAR', 'CTO00'): 1,\n ('CTO00', 'DAM'): 1,\n ('DAM', 'SOAM'): 1,\n ('SOAM', 'ODOE'): 1,\n ('8AM', 'FAR'): 1,\n ('FAR', 'HZOE'): 1,\n ('8AM', 'HZOE8AR'): 1,\n ('HZOE8AR', 'GTCCG'): 1,\n ('GTCCG', 'ODCCG'): 1,\n ('ODCCG', 'ODG'): 1,\n ('ODTCG', 'DODAM'): 1,\n ('DODAM', '0TOE'): 1,\n ('0TOE', 'DA8TG'): 1,\n ('DA8TG', '8AE'): 1,\n ('8AE', '8TCO'): 1,\n ('8TCO', 'SO8G'): 1,\n ('SO8G', 'DOTCG'): 1,\n ('DOTCG', 'HZG'): 1,\n ('HZG', 'ODTCG'): 1,\n ('ODTCG', 'DCCG'): 1,\n ('DCCG', 'DCCG'): 1,\n ('8AE', 'THOR'): 1,\n ('THOR', '0CO'): 1,\n ('0CO', 'TOE'): 1,\n ('TOE', 'TOD'): 1,\n ('TOD', 'TOHG'): 1,\n ('TOHG', 'TOHCG'): 1,\n ('DTRG', 'TO8AM'): 1,\n ('TO8AM', 'OE'): 1,\n ('OE', 'OEHTCG'): 1,\n ('OEHTCG', 'TAR'): 1,\n ('TAR', 'FZAR'): 1,\n ('FZAR', 'AK'): 1,\n ('AK', 'GHCCG'): 1,\n ('GHCCG', 'TAR'): 1,\n ('OTG', '8TO'): 1,\n ('8TO', 'EDO8G'): 1,\n ('EDO8G', 'ODO8AR'): 1,\n ('ODO8AR', 'TO8G'): 1,\n ('TO8G', '8O'): 1,\n ('8O', 'DZG'): 1,\n ('DZG', 'DZO'): 1,\n ('DZO', 'DZG'): 1,\n ('DZG', 'SG'): 1,\n ('SG', '8DSCCG'): 1,\n ('8DSCCG', 'HZG'): 1,\n ('HZG', 'DOHTO8G'): 1,\n ('DOHTO8G', '8AE'): 1,\n ('8OE', 'TODCO'): 1,\n ('TODCO', '8AIR'): 1,\n ('8AIR', '8AK'): 1,\n ('8AK', '2OTCG'): 1,\n ('2OTCG', 'TODO8G'): 1,\n ('POHOG', 'SOE'): 1,\n ('SOE', '8AIR'): 1,\n ('8AIR', 'PZOAE'): 1,\n ('PZOAE', '8AR'): 1,\n ('TCG', 'HO8G'): 1,\n ('HO8G', 'OHOAM'): 1,\n ('OHOAM', 'SOSG'): 1,\n ('SOSG', 'TODG'): 1,\n ('HZOE', 'SOE'): 1,\n ('SOE', 'ODAE'): 1,\n ('ODAE', '8OETCG'): 1,\n ('8OETCG', 'TO8O'): 1,\n ('TO8O', 'EOE'): 1,\n ('EOE', 'TG'): 1,\n ('HZG', '4O'): 1,\n ('4O', 'OE'): 1,\n ('OE', 'TOIC2'): 1,\n ('TOIC2', 'TCOE'): 1,\n ('TCOE', '8OE'): 1,\n ('8OE', 'HZCG'): 1,\n ('HZCG', 'GDOE'): 1,\n ('8OE', '8OEO'): 1,\n ('8OEO', 'GDOE'): 1,\n ('8OE', 'TO8G'): 1,\n ('TO8G', 'ODOE'): 1,\n ('ODOE', 'SOE'): 1,\n ('DOE', 'DCTG'): 1,\n ('DCTG', 'TOE'): 1,\n ('TOE', 'DG'): 1,\n ('HZOE', 'TO8G'): 1,\n ('TO8G', 'TOE'): 1,\n ('ODOE', 'TOE'): 1,\n ('DG', '8AR'): 1,\n ('SOE', '8TOR'): 1,\n ('8TOR', 'OHTO'): 1,\n ('OHTO', '8AR'): 1,\n ('8AR', 'SO8G'): 1,\n ('SO8G', 'HAOR'): 1,\n ('HAOR', 'TOHTCG'): 1,\n ('TOHTCG', '8AE'): 1,\n ('8AE', 'TO8G'): 1,\n ('TO8G', '2TO8G'): 1,\n ('2TO8G', 'POE'): 1,\n ('POE', 'TO8AR'): 1,\n ('DG8ANG', 'GPTOE'): 1,\n ('GPTOE', '8AM'): 1,\n ('8AM', 'OHTAE'): 1,\n ('OHTAE', 'GPTAM'): 1,\n ('GPTAM', 'DZOE2G'): 1,\n ('DZOE2G', '8ORTORG'): 1,\n ('8ORTORG', 'TDAR'): 1,\n ('TDAR', '2'): 1,\n ('2', 'SOR'): 1,\n ('HZG', 'HZO'): 1,\n ('HZO', '4OHAM'): 1,\n ('4OHAM', 'HZCG'): 1,\n ('HZCG', 'G'): 1,\n ('G', 'TOR'): 1,\n ('TG', 'G8G'): 1,\n ('G8G', 'TAM'): 1,\n ('TAM', 'SAII8G'): 1,\n ('SAII8G', 'THO88G'): 1,\n ('THO88G', 'PZG'): 1,\n ('PZG', '8AE2'): 1,\n ('8AE2', 'TODAM'): 1,\n ('TODAM', '8'): 1,\n ('8', 'OHOTOR'): 1,\n ('OHOTOR', 'AE'): 1,\n ('AE', 'SO8AM'): 1,\n ('SO8AM', 'TOE'): 1,\n ('8AL', 'GHTAM'): 1,\n ('GHTAM', '8AL'): 1,\n ('8AL', '2AM'): 1,\n ('2AM', '8AN8'): 1,\n ('8AN8', '8DOE'): 1,\n ('8DOE', '2OR'): 1,\n ('2OR', 'GHOE8G'): 1,\n ('GHOE8G', '8TOE'): 1,\n ('8TOE', '8TG'): 1,\n ('HZG', 'SOR'): 1,\n ('SOR', 'DZG'): 1,\n ('DZG', '8AMG'): 1,\n ('8AMG', 'TOE'): 1,\n ('DG8AN', 'SAM'): 1,\n ('SAM', '4OG'): 1,\n ('4OG', '2'): 1,\n ('2', 'SOE'): 1,\n ('SOE', 'FO8AL'): 1,\n ('FO8AL', 'GDS'): 1,\n ('GDS', 'OESCCG'): 1,\n ('OESCCG', '8AIIE8G'): 1,\n ('8AIIE8G', '8E2SO'): 1,\n ('8E2SO', 'DOE'): 1,\n ('DOE', 'SCCG'): 1,\n ('SCCG', '4ODCG'): 1,\n ('4ODCG', 'GDO8G'): 1,\n ('GDO8G', '2O'): 1,\n ('TOE', 'GDG'): 1,\n ('GDG', '8AN'): 1,\n ('8AN', '8AIIROE'): 1,\n ('8AIIROE', '4ODG'): 1,\n ('4ODG', 'TOEAM'): 1,\n ('TOEAM', 'SOE'): 1,\n ('SOE', 'SCDG'): 1,\n ('SCDG', '8AM'): 1,\n ('HZCG', 'DCOE'): 1,\n ('DCOE', '2'): 1,\n ('AM', '2AM'): 1,\n ('2AM', 'GTAN'): 1,\n ('GTAN', '8AE'): 1,\n ('8AE', 'TG'): 1,\n ('TG', '8AEOR'): 1,\n ('8AEOR', 'SAL'): 1,\n ('SAL', '8AL'): 1,\n ('8AL', 'OE2AM'): 1,\n ('OE2AM', 'SCCG'): 1,\n ('SCCG', 'DZOR'): 1,\n ('DZOR', 'ODOE'): 1,\n ('ODOE', 'TG'): 1,\n ('HZOR', 'GOR'): 1,\n ('GOR', 'AL'): 1,\n ('AL', 'TAL'): 1,\n ('2AM', 'TCHG'): 1,\n ('TCHG', 'TGDG'): 1,\n ('TGDG', '2AE'): 1,\n ('2AE', 'SO'): 1,\n ('DOOM', 'TCO'): 1,\n ('TCO', 'PTOR'): 1,\n ('PTOR', 'OHAM'): 1,\n ('OHAM', 'O8AN'): 1,\n ('O8AN', 'TOR'): 1,\n ('TOR', '8AIR'): 1,\n ('8AIR', 'SHG'): 1,\n ('SHG', 'DTO'): 1,\n ('DTO', 'DTG'): 1,\n ('DTG', 'SO'): 1,\n ('SOE', '4OHTO'): 1,\n ('4OHTO', 'EOCCC2'): 1,\n ('EOCCC2', '4OHG'): 1,\n ('4OHG', 'TOR'): 1,\n ('OHTG', 'TOR'): 1,\n ('TOR', 'ESG'): 1,\n ('ESG', 'TOE'): 1,\n ('TO8G', 'TO8AN'): 1,\n ('TO8AN', 'THZG'): 1,\n ('SO', 'TOEO'): 1,\n ('TOEO', 'TCOR'): 1,\n ('TCOR', 'TO8AM'): 1,\n ('DTOR', 'SG'): 1,\n ('SG', '8AIM'): 1,\n ('8AIM', 'TDZOG'): 1,\n ('TDZOG', '2'): 1,\n ('2', 'SCG'): 1,\n ('SCG', '8OR'): 1,\n ('TOE', 'DCOE'): 1,\n ('DCOE', 'TG'): 1,\n ('TG', 'THG'): 1,\n ('THG', '8AM'): 1,\n ('OHTOR', 'TAL'): 1,\n ('8AM', 'TOHTCG'): 1,\n ('TOHTCG', '4OHCCCG'): 1,\n ('4OHCCCG', 'TODCO2'): 1,\n ('TODCO2', 'TCC2'): 1,\n ('TCC2', 'TR'): 1,\n ('TR', 'TCAM'): 1,\n ('TCAM', 'TODOISC'): 1,\n ('TODOISC', 'TOR'): 1,\n ('TOR', 'TCOE'): 1,\n ('TOE', '8OEO8G'): 1,\n ('HSCO2', '4OPAE'): 1,\n ('4OPAE', 'TOE'): 1,\n ('HZOE', '8AIKK'): 1,\n ('8AIKK', 'GTCOR'): 1,\n ('TOR', '8AK'): 1,\n ('8AK', '4OHTAK'): 1,\n ('4OHTAK', 'TAK'): 1,\n ('TAK', 'OTOR'): 1,\n ('OTOR', '4OTCOR'): 1,\n ('4OTCOR', 'TOE'): 1,\n ('2TCG', 'TOR'): 1,\n ('TOR', 'TAE'): 1,\n ('TAE', 'TAK'): 1,\n ('TAK', 'TAK'): 1,\n ('TAK', 'TO'): 1,\n ('4ODOE', 'TOEOEG'): 1,\n ('TOEOEG', '2'): 1,\n ('2', 'TAK'): 1,\n ('TAK', 'HZOE'): 1,\n ('HZOE', 'GTHAM'): 1,\n ('GTHAM', 'TOR'): 1,\n ('HZOK', 'OHAE'): 1,\n ('8AK', 'OHTOE'): 1,\n ('OHTOE', '4O8AM'): 1,\n ('4O8AM', 'TOK'): 1,\n ('TOK', 'SOK'): 1,\n ('SOK', '8AKO'): 1,\n ('8AKO', 'GSCOR'): 1,\n ('GSCOR', 'TOR'): 1,\n ('TOE', 'ODG'): 1,\n ('ODG', '8AKO'): 1,\n ('8AKO', 'SO'): 1,\n ('SO', '0OR'): 1,\n ('0OR', 'SCOE8AK'): 1,\n ('SCOE8AK', 'OHTO8G'): 1,\n ('OHTO8G', 'OE'): 1,\n ('OE', 'G8AR'): 1,\n ('G8AR', 'TOE'): 1,\n ('TOE', 'HZOK'): 1,\n ('PTCOE', 'SOE'): 1,\n ('SOE', '2OE2'): 1,\n ('2OE2', 'SCOE'): 1,\n ('SCOE', 'SCG'): 1,\n ('SCG', 'ODA8AM'): 1,\n ('ODA8AM', '4ODTOR'): 1,\n ('4ODTOR', '4O2TO8AK'): 1,\n ('4O2TO8AK', 'OHZG'): 1,\n ('OHZG', '4ODCCG'): 1,\n ('4ODCCG', '4OHSCG'): 1,\n ('4OHSCG', '4ODO8G'): 1,\n ('4ODO8G', '4ODTCG'): 1,\n ('4ODTCG', 'TCO8G'): 1,\n ('TCO8G', 'TOR'): 1,\n ('TOR', '4O8AIR'): 1,\n ('4O8AIR', 'ODCCG'): 1,\n ('ODCCG', '4ODCCG'): 1,\n ('HSCOAROK', 'SOR'): 1,\n ('SOR', 'OR'): 1,\n ('TOR', 'OFT2G'): 1,\n ('OFT2G', 'TOK'): 1,\n ('TOK', 'OHTOK'): 1,\n ('OHTOK', 'OPORAR'): 1,\n ('OPORAR', 'OHCOE'): 1,\n ('OHCOE', 'TOE'): 1,\n ('2', 'TCOE'): 1,\n ('TCOE', 'CDSG'): 1,\n ('CDSG', '4ODCOK'): 1,\n ('4ODCOK', '4ODOE'): 1,\n ('8AM', '2OECCK'): 1,\n ('2OECCK', '2OCOK'): 1,\n ('2OCOK', 'ODCOK'): 1,\n ('ODCOK', 'GHCO8G'): 1,\n ('GHCO8G', '4ODCCO'): 1,\n ('4ODCCO', '8AE'): 1,\n ('8AE', '2AK'): 1,\n ('PTCOE8OK', 'SO8AM'): 1,\n ('SO8AM', '4OPTOR'): 1,\n ('4OPTOR', '4OPOE'): 1,\n ('4OPOE', 'OPTOE'): 1,\n ('OPTOE', '4OHG'): 1,\n ('4OHG', 'OHOEOK'): 1,\n ('OHOEOK', 'OHTOR'): 1,\n ('OHTOR', 'OE'): 1,\n ('TCOR', '4OCOR'): 1,\n ('4OCOR', '8AIR'): 1,\n ('8AIR', '4OHCOE'): 1,\n ('4OHCOE', '4O2AM'): 1,\n ('4O2AM', 'TOR'): 1,\n ('HZG', 'GTCOR'): 1,\n ('GTCOR', 'TOE'): 1,\n ('O8AM', 'TOE'): 1,\n ('TOE', '2AM'): 1,\n ('2AM', 'ODOEOR'): 1,\n ('ODOEOR', 'AK'): 1,\n ('DOAM', 'PZOR'): 1,\n ('PZOR', '4OHOG'): 1,\n ('4OHOG', 'SA'): 1,\n ('SA', 'DZOE'): 1,\n ('DZOE', 'GDOAM'): 1,\n ('GDOAM', '2'): 1,\n ('2', 'OEG'): 1,\n ('OEG', '8AII8G'): 1,\n ('8AII8G', '4OHCCOE'): 1,\n ('4OHCCOE', 'ODTOR'): 1,\n ('ODTOR', 'ODOR'): 1,\n ('ODOR', 'OEGHOE'): 1,\n ('OEGHOE', '8OE'): 1,\n ('8AR', 'ODOK'): 1,\n ('ODOK', 'TOE'): 1,\n ('SOE', '2CCC2'): 1,\n ('2CCC2', 'TOK'): 1,\n ('TOK', 'TCCGDAK'): 1,\n ('TCCGDAK', 'ODAI0'): 1,\n ('ODAI0', '4O8AR'): 1,\n ('4O8AR', 'CC2'): 1,\n ('CC2', 'CCG'): 1,\n ('CCG', 'DTCOE'): 1,\n ('DTCOE', 'ODAE'): 1,\n ('ODAE', '8OR'): 1,\n ('TCAR', 'CCL'): 1,\n ('CCL', 'GCCCAR'): 1,\n ('GCCCAR', 'OHTAE'): 1,\n ('OHTAE', 'CCOR'): 1,\n ('CCOR', 'CCAR'): 1,\n ('CCAR', 'DZG'): 1,\n ('OR', 'TCOR'): 1,\n ('TCOR', 'DOR'): 1,\n ('DOR', 'TO8AEG'): 1,\n ('TO8AEG', 'TOK'): 1,\n ('HTOR', 'OHTAK'): 1,\n ('OHTAK', 'TOR'): 1,\n ('TOR', 'FZAK'): 1,\n ('FZAK', '2'): 1,\n ('2', 'GDTG'): 1,\n ('GDTG', 'DTOK'): 1,\n ('DTOK', 'TOR'): 1,\n ('TOR', 'TCDCOE'): 1,\n ('TCDCOE', 'ODA'): 1,\n ('ODA', 'GHTCCAR'): 1,\n ('GHTCCAR', 'ODCOE'): 1,\n ('ODCOE', 'HZO8OAEG'): 1,\n ('HZO8OAEG', 'TOR'): 1,\n ('HZG', 'OTOR'): 1,\n ('OTOR', '8AM'): 1,\n ('8AM', '4ODSOE'): 1,\n ('4ODSOE', '8AIIK'): 1,\n ('8AIIK', 'TOE'): 1,\n ('TOE', 'ODARG'): 1,\n ('ODARG', 'SO'): 1,\n ('SO', 'SODZO'): 1,\n ('SODZO', 'DZG'): 1,\n ('DZG', 'HTOR'): 1,\n ('HTOR', 'TO8AM'): 1,\n ('TO8AM', 'TOK'): 1,\n ('TOK', 'OS'): 1,\n ('OS', 'TO8AIR'): 1,\n ('TO8AIR', 'GHTG'): 1,\n ...}"
     },
     "execution_count": 222,
     "metadata": {},
     "output_type": "execute_result"
    }
   ],
   "source": [
    "bigrams_count = count_occurance(bigrams)\n",
    "bigrams_count"
   ],
   "metadata": {
    "collapsed": false
   }
  },
  {
   "cell_type": "markdown",
   "source": [
    "## Compare with real-world language"
   ],
   "metadata": {
    "collapsed": false
   }
  },
  {
   "cell_type": "code",
   "execution_count": 223,
   "outputs": [],
   "source": [
    "#open text\n",
    "text_real = open(\"words_real_punc.txt\", 'r').read().split(\"\\n\")"
   ],
   "metadata": {
    "collapsed": false
   }
  },
  {
   "cell_type": "code",
   "execution_count": 224,
   "outputs": [],
   "source": [
    "bigrams_real = find_bigrams(text_real)"
   ],
   "metadata": {
    "collapsed": false
   }
  },
  {
   "cell_type": "code",
   "execution_count": 225,
   "outputs": [],
   "source": [
    "bigrams_real_count = count_occurance(bigrams_real)\n",
    "def show_bigrams(dict):\n",
    "    print(\"The most common bigrams occurring in this text:\")\n",
    "    for x in dict.keys():\n",
    "        if(dict[x] > 5):\n",
    "            big = x[0] + ' ' + x[1]\n",
    "            print(\"\\\"\" +big + \"\\\": \" + str(dict[x]))"
   ],
   "metadata": {
    "collapsed": false
   }
  },
  {
   "cell_type": "code",
   "execution_count": 226,
   "outputs": [
    {
     "name": "stdout",
     "output_type": "stream",
     "text": [
      "The most common bigrams occurring in this text:\n",
      "\"TOE 8AM\": 30\n",
      "\"TOE TOE\": 19\n",
      "\"8AM 8AM\": 12\n",
      "\"8AM HZG\": 11\n",
      "\"TOR 8AM\": 10\n",
      "\"TG 8AM\": 9\n",
      "\"SOE 8AM\": 9\n",
      "\"TOR TOE\": 8\n",
      "\"TOE SOE\": 8\n",
      "\"8AM HZOR\": 8\n",
      "\"8AM SO\": 7\n",
      "\"TOE TOR\": 7\n",
      "\"8AM 8AE\": 7\n",
      "\"OR AM\": 7\n",
      "\"8AM TOE\": 7\n",
      "\"TOE HZOE\": 6\n",
      "\"8AM HZOE\": 6\n",
      "\"HZG 8AM\": 6\n",
      "\"8AM TOR\": 6\n",
      "\"OHOE TOE\": 6\n",
      "\"8AN 8AM\": 6\n",
      "\"8AM 8AN\": 6\n",
      "\"TG DTG\": 6\n",
      "\"8AM 8AK\": 6\n",
      "\"SG 8AM\": 6\n"
     ]
    }
   ],
   "source": [
    "show_bigrams(bigrams_count)"
   ],
   "metadata": {
    "collapsed": false
   }
  },
  {
   "cell_type": "code",
   "execution_count": 227,
   "outputs": [
    {
     "name": "stdout",
     "output_type": "stream",
     "text": [
      "The most common bigrams occurring in this text:\n",
      "\"SIĘ W\": 76\n",
      "\"I Z\": 72\n",
      "\"SIĘ Z\": 67\n",
      "\"SIĘ I\": 60\n",
      "\"I W\": 55\n",
      "\"SIĘ NA\": 45\n",
      "\"I NA\": 39\n",
      "\"CO SIĘ\": 38\n",
      "\"I TAK\": 36\n",
      "\"NA TO\": 30\n",
      "\"ZA NIM\": 29\n",
      "\"O TYM\": 29\n",
      "\"NA KONIEC\": 29\n",
      "\"SIĘ DO\": 27\n",
      "\"ŻE SIĘ\": 27\n",
      "\"SIĘ NIE\": 26\n",
      "\"JAK GDYBY\": 26\n",
      "\"W DOMU\": 25\n",
      "\"Z NIM\": 25\n",
      "\"JAK W\": 24\n",
      "\"NA KSZTAŁT\": 23\n",
      "\"W TYM\": 22\n",
      "\"A NA\": 22\n",
      "\"I NIE\": 22\n",
      "\"ŻE W\": 21\n",
      "\"Z WOLNA\": 21\n",
      "\"NIE JEST\": 21\n",
      "\"NIC NIE\": 21\n",
      "\"W RĘKU\": 20\n",
      "\"W ŚRODKU\": 19\n",
      "\"Z TYŁU\": 19\n",
      "\"NIE MÓGŁ\": 18\n",
      "\"U NAS\": 18\n",
      "\"PAN SĘDZIA\": 18\n",
      "\"NIE MA\": 18\n",
      "\"W LITWIE\": 18\n",
      "\"NA ŚWIECIE\": 18\n",
      "\"A W\": 17\n",
      "\"Z GÓRY\": 17\n",
      "\"DO GÓRY\": 17\n",
      "\"WIDAĆ ŻE\": 16\n",
      "\"SIĘ JAK\": 16\n",
      "\"NIE BYŁO\": 16\n",
      "\"I PO\": 16\n",
      "\"JAK NA\": 16\n",
      "\"BYŁ TO\": 16\n",
      "\"W KOŃCU\": 16\n",
      "\"ŻE TO\": 16\n",
      "\"CO TO\": 16\n",
      "\"BYŁ W\": 15\n",
      "\"I RZEKŁ\": 15\n",
      "\"TAK SIĘ\": 15\n",
      "\"Z SOBĄ\": 15\n",
      "\"SIĘ ŻE\": 15\n",
      "\"TO JEST\": 15\n",
      "\"W GÓRĘ\": 15\n",
      "\"AŻ DO\": 14\n",
      "\"NIGDY NIE\": 14\n",
      "\"I JUŻ\": 14\n",
      "\"JUŻ NIE\": 14\n",
      "\"SIĘ PO\": 14\n",
      "\"W TYŁ\": 14\n",
      "\"NA LITWIE\": 14\n",
      "\"CZY TO\": 14\n",
      "\"I DO\": 14\n",
      "\"DO DOMU\": 13\n",
      "\"W TEJ\": 13\n",
      "\"TO NIE\": 13\n",
      "\"Z NICH\": 13\n",
      "\"A POTEM\": 13\n",
      "\"ŻE GO\": 13\n",
      "\"W POLE\": 13\n",
      "\"ŻE Z\": 13\n",
      "\"RZEKŁ SĘDZIA\": 13\n",
      "\"I ZNOWU\": 12\n",
      "\"DO NAS\": 12\n",
      "\"NIE MIAŁ\": 12\n",
      "\"HRABIA Z\": 12\n",
      "\"WIDZĄC ŻE\": 12\n",
      "\"PO CO\": 12\n",
      "\"A ZA\": 12\n",
      "\"DO SIEBIE\": 12\n",
      "\"ZA CZYM\": 12\n",
      "\"A Z\": 12\n",
      "\"JAK SIĘ\": 12\n",
      "\"BIĆ SIĘ\": 12\n",
      "\"NA CZELE\": 12\n",
      "\"Z DALEKA\": 11\n",
      "\"NIE MOŻE\": 11\n",
      "\"WE DWORZE\": 11\n",
      "\"NA NIM\": 11\n",
      "\"NIE BYŁ\": 11\n",
      "\"PAN WOJSKI\": 11\n",
      "\"GDY SIĘ\": 11\n",
      "\"PAN HRABIA\": 11\n",
      "\"W ZAMKU\": 11\n",
      "\"I ŻE\": 11\n",
      "\"A CO\": 11\n",
      "\"W OCZY\": 11\n",
      "\"NA KOŃ\": 11\n",
      "\"SIĘ ZA\": 11\n",
      "\"NA ZIEMI\": 11\n",
      "\"DO ZIEMI\": 11\n",
      "\"W NIEJ\": 11\n",
      "\"W SOPLICOWIE\": 11\n",
      "\"JEST TO\": 11\n",
      "\"I JA\": 11\n",
      "\"W NIEBO\": 10\n",
      "\"JUŻ SIĘ\": 10\n",
      "\"Z DALA\": 10\n",
      "\"W CZASIE\": 10\n",
      "\"ŻE NIE\": 10\n",
      "\"NA TYM\": 10\n",
      "\"O NIM\": 10\n",
      "\"TO MÓWIĄC\": 10\n",
      "\"NIE WIEM\": 10\n",
      "\"PIERWSZY RAZ\": 10\n",
      "\"PAN REJENT\": 10\n",
      "\"LECZ NIE\": 10\n",
      "\"MIAŁ W\": 10\n",
      "\"W LAS\": 10\n",
      "\"GDY W\": 10\n",
      "\"SIĘ O\": 10\n",
      "\"DO ZAMKU\": 10\n",
      "\"TO BYŁ\": 10\n",
      "\"TO W\": 10\n",
      "\"KTO WIE\": 10\n",
      "\"SIĘ KU\": 10\n",
      "\"I CÓŻ\": 10\n",
      "\"A NIE\": 10\n",
      "\"HEJŻE NA\": 10\n",
      "\"DO DWORU\": 9\n",
      "\"SAM NIE\": 9\n",
      "\"NIE WIEDZIAŁ\": 9\n",
      "\"I TAM\": 9\n",
      "\"ZA STOŁEM\": 9\n",
      "\"MI SIĘ\": 9\n",
      "\"PO CICHU\": 9\n",
      "\"SIĘ OD\": 9\n",
      "\"Z TYCH\": 9\n",
      "\"A PAN\": 9\n",
      "\"JAŚNIE WIELMOŻNY\": 9\n",
      "\"SIĘ POD\": 9\n",
      "\"A GDY\": 9\n",
      "\"Z DRUGIEJ\": 9\n",
      "\"MU SIĘ\": 9\n",
      "\"DO MNIE\": 9\n",
      "\"NIE BĘDZIE\": 9\n",
      "\"JAK TO\": 9\n",
      "\"PRAWDA ŻE\": 9\n",
      "\"W LASACH\": 9\n",
      "\"W NIM\": 9\n",
      "\"CZY NIE\": 9\n",
      "\"TU NIE\": 9\n",
      "\"Z OCZU\": 9\n",
      "\"Z PRZODU\": 9\n",
      "\"NA NIEBIE\": 9\n",
      "\"I TO\": 9\n",
      "\"WIDAĆ Z\": 8\n",
      "\"NIE WIDZIAŁ\": 8\n",
      "\"BO W\": 8\n",
      "\"Z RANA\": 8\n",
      "\"Z RĄK\": 8\n",
      "\"Z PANEM\": 8\n",
      "\"SIĘ JUŻ\": 8\n",
      "\"GO NIE\": 8\n",
      "\"TO RZECZ\": 8\n",
      "\"JA NIE\": 8\n",
      "\"SIĘ JAKO\": 8\n",
      "\"Z REJENTEM\": 8\n",
      "\"JUŻ W\": 8\n",
      "\"NA WSI\": 8\n",
      "\"NIE MOGĘ\": 8\n",
      "\"TADEUSZ Z\": 8\n",
      "\"JENERAŁ DĄBROWSKI\": 8\n",
      "\"JAK Z\": 8\n",
      "\"KSIĄDZ ROBAK\": 8\n",
      "\"HRABIA NA\": 8\n",
      "\"W ISTOCIE\": 8\n",
      "\"RZEKŁ HRABIA\": 8\n",
      "\"AŻ SIĘ\": 8\n",
      "\"DO STOŁU\": 8\n",
      "\"NA NICH\": 8\n",
      "\"ŚMIEJĄC SIĘ\": 8\n",
      "\"WPADŁ W\": 8\n",
      "\"JEST W\": 8\n",
      "\"ZDAJE SIĘ\": 8\n",
      "\"WSZAK TO\": 8\n",
      "\"A TO\": 8\n",
      "\"NIE Z\": 8\n",
      "\"W OCZACH\": 8\n",
      "\"Z KOLEI\": 8\n",
      "\"MU NA\": 8\n",
      "\"BO TO\": 8\n",
      "\"JA Z\": 8\n",
      "\"A TYMCZASEM\": 8\n",
      "\"W DOBRZYNIE\": 8\n",
      "\"NA ZNAK\": 8\n",
      "\"ŻE MNIE\": 8\n",
      "\"CZUŁ ŻE\": 7\n",
      "\"ŻE MU\": 7\n",
      "\"I SAM\": 7\n",
      "\"ALE NIE\": 7\n",
      "\"SIĘ PAN\": 7\n",
      "\"W KTÓREJ\": 7\n",
      "\"I WNET\": 7\n",
      "\"WIĘC DO\": 7\n",
      "\"PANA TADEUSZA\": 7\n",
      "\"POTEM W\": 7\n",
      "\"PRZY NIM\": 7\n",
      "\"TUŻ PRZY\": 7\n",
      "\"PAN TADEUSZ\": 7\n",
      "\"BYŁA TO\": 7\n",
      "\"W MILCZENIU\": 7\n",
      "\"PAN BÓG\": 7\n",
      "\"ICH NIE\": 7\n",
      "\"A WIĘC\": 7\n",
      "\"A ON\": 7\n",
      "\"I JAK\": 7\n",
      "\"NA PRAWO\": 7\n",
      "\"W PRAWO\": 7\n",
      "\"W POWIECIE\": 7\n",
      "\"MU Z\": 7\n",
      "\"I ZA\": 7\n",
      "\"I O\": 7\n",
      "\"OZWAŁ SIĘ\": 7\n",
      "\"W POLU\": 7\n",
      "\"Z GŁOWĄ\": 7\n",
      "\"CHOĆ NIE\": 7\n",
      "\"ŻE PAN\": 7\n",
      "\"I TEN\": 7\n",
      "\"NIE WIE\": 7\n",
      "\"NIECH SIĘ\": 7\n",
      "\"A JUŻ\": 7\n",
      "\"W NOCY\": 7\n",
      "\"A JA\": 7\n",
      "\"Z TEJ\": 7\n",
      "\"W DRUGIEJ\": 7\n",
      "\"Z TEGO\": 7\n",
      "\"NIKT Z\": 7\n",
      "\"JESZCZE NIE\": 7\n",
      "\"O TO\": 7\n",
      "\"GDY NA\": 7\n",
      "\"NIE TAK\": 7\n",
      "\"W SERCU\": 7\n",
      "\"TO MI\": 7\n",
      "\"KU NIEMU\": 7\n",
      "\"W KOLEJ\": 7\n",
      "\"PO RAZ\": 7\n",
      "\"ZE ŁZAMI\": 7\n",
      "\"NA WPÓŁ\": 7\n",
      "\"TYLKO SIĘ\": 6\n",
      "\"W CAŁEJ\": 6\n",
      "\"PRZED NIM\": 6\n",
      "\"DOMU I\": 6\n",
      "\"WIDAĆ BYŁO\": 6\n",
      "\"W BIEGU\": 6\n",
      "\"LECZ W\": 6\n",
      "\"NA POLE\": 6\n",
      "\"PRZEZ OKNO\": 6\n",
      "\"GDY Z\": 6\n",
      "\"NIE CHCIAŁ\": 6\n",
      "\"NIM SIĘ\": 6\n",
      "\"ON W\": 6\n",
      "\"PO KRYJOMU\": 6\n",
      "\"I PAN\": 6\n",
      "\"WOJSKI Z\": 6\n",
      "\"I JESZCZE\": 6\n",
      "\"NIE MOGĄ\": 6\n",
      "\"W JAKIM\": 6\n",
      "\"PO CÓŻ\": 6\n",
      "\"O TEM\": 6\n",
      "\"WESZLI W\": 6\n",
      "\"KŁANIAŁ SIĘ\": 6\n",
      "\"NA MIEJSCU\": 6\n",
      "\"JA SAM\": 6\n",
      "\"W KAŻDEJ\": 6\n",
      "\"Z KIM\": 6\n",
      "\"I STĄD\": 6\n",
      "\"BYŁO ŻE\": 6\n",
      "\"PODKOMORZY I\": 6\n",
      "\"BO JUŻ\": 6\n",
      "\"PO FRANCUSKU\": 6\n",
      "\"ŻE PO\": 6\n",
      "\"TO JUŻ\": 6\n",
      "\"RZEKŁ DO\": 6\n",
      "\"RAZ W\": 6\n",
      "\"WSZYSTKO SIĘ\": 6\n",
      "\"W WILNIE\": 6\n",
      "\"W KTÓRYM\": 6\n",
      "\"W PÓŁ\": 6\n",
      "\"W LEWO\": 6\n",
      "\"NA LEWO\": 6\n",
      "\"DRUGIEJ STRONY\": 6\n",
      "\"TUŻ NAD\": 6\n",
      "\"TADEUSZ I\": 6\n",
      "\"I RĘCE\": 6\n",
      "\"ŻE TAK\": 6\n",
      "\"W STOLICY\": 6\n",
      "\"JA W\": 6\n",
      "\"TEŻ NIE\": 6\n",
      "\"NA KOŃCU\": 6\n",
      "\"LECZ GO\": 6\n",
      "\"TAK BYŁO\": 6\n",
      "\"ZA MYCH\": 6\n",
      "\"GDZIE SIĘ\": 6\n",
      "\"NIE TYLKO\": 6\n",
      "\"Z WAMI\": 6\n",
      "\"OSTATNIEGO Z\": 6\n",
      "\"KTO Z\": 6\n",
      "\"SIĘ NAD\": 6\n",
      "\"WSZYSTKO TO\": 6\n",
      "\"NA SIEBIE\": 6\n",
      "\"PAN NIE\": 6\n",
      "\"NA WIATR\": 6\n",
      "\"ZWAŁ SIĘ\": 6\n",
      "\"W JEDNEJ\": 6\n",
      "\"WIE CO\": 6\n",
      "\"JAKBY W\": 6\n",
      "\"BYŁO TO\": 6\n",
      "\"TO ZA\": 6\n",
      "\"CHOĆ W\": 6\n",
      "\"JUŻ BYŁ\": 6\n",
      "\"ODE MNIE\": 6\n",
      "\"W NICH\": 6\n",
      "\"BY SIĘ\": 6\n",
      "\"KU NIM\": 6\n",
      "\"KRĘCI SIĘ\": 6\n",
      "\"W MIEJSCU\": 6\n",
      "\"W OGRODZIE\": 6\n",
      "\"ZNAK ŻE\": 6\n",
      "\"Z TELIMENĄ\": 6\n",
      "\"W IZBIE\": 6\n",
      "\"WIERZ MI\": 6\n",
      "\"NIKT NIE\": 6\n",
      "\"A WTEM\": 6\n",
      "\"NA DZIEDZINIEC\": 6\n",
      "\"ZARAZ W\": 6\n",
      "\"ALE Z\": 6\n",
      "\"NA ŚWIAT\": 6\n",
      "\"W USTACH\": 6\n",
      "\"ZA TO\": 6\n",
      "\"BEZ LIKU\": 6\n",
      "\"TO NA\": 6\n",
      "\"Z ŁASKI\": 6\n",
      "\"JEST NA\": 6\n",
      "\"DO ZOSI\": 6\n",
      "\"A JEŚLI\": 6\n",
      "\"NIE MOŻNA\": 6\n",
      "\"TO JAK\": 6\n",
      "\"SIĘ TAK\": 6\n",
      "\"GDY MU\": 6\n",
      "\"DO TEGO\": 6\n",
      "\"NIECH ŻYJE\": 6\n",
      "\"ZA SOBĄ\": 6\n",
      "\"KU NIEJ\": 6\n",
      "\"O CO\": 6\n",
      "\"NA BOK\": 6\n",
      "\"O TEJ\": 6\n",
      "\"WIEM ŻE\": 6\n",
      "\"Z BLISKA\": 6\n",
      "\"NA SOPLICĘ\": 6\n",
      "\"NA PRZEMIANY\": 6\n",
      "\"SIĘ A\": 6\n",
      "\"ZE MNĄ\": 6\n",
      "\"I TERAZ\": 6\n"
     ]
    }
   ],
   "source": [
    "show_bigrams(bigrams_real_count)"
   ],
   "metadata": {
    "collapsed": false
   }
  },
  {
   "cell_type": "markdown",
   "source": [
    "## Graphs for number of bigrams in each language\n",
    "First graph corresponds to the language scripted\n",
    "in Voynich's Manuscript, while the second,\n",
    "to a real world spoken language."
   ],
   "metadata": {
    "collapsed": false
   }
  },
  {
   "cell_type": "code",
   "execution_count": 228,
   "outputs": [
    {
     "data": {
      "text/plain": "<Figure size 640x480 with 1 Axes>",
      "image/png": "[encoded data removed]"
     },
     "metadata": {},
     "output_type": "display_data"
    },
    {
     "data": {
      "text/plain": "<Figure size 640x480 with 1 Axes>",
      "image/png": "[encoded data removed]"
     },
     "metadata": {},
     "output_type": "display_data"
    }
   ],
   "source": [
    "plot_occ(bigrams_count)\n",
    "plot_occ(bigrams_real_count)"
   ],
   "metadata": {
    "collapsed": false
   }
  }
 ],
 "metadata": {
  "kernelspec": {
   "display_name": "Python 3",
   "language": "python",
   "name": "python3"
  },
  "language_info": {
   "codemirror_mode": {
    "name": "ipython",
    "version": 2
   },
   "file_extension": ".py",
   "mimetype": "text/x-python",
   "name": "python",
   "nbconvert_exporter": "python",
   "pygments_lexer": "ipython2",
   "version": "2.7.6"
  }
 },
 "nbformat": 4,
 "nbformat_minor": 0
}
